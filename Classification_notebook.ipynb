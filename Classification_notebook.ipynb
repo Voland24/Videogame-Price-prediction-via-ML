{
 "cells": [
  {
   "cell_type": "code",
   "execution_count": null,
   "id": "4daab1a3-566f-49c8-94a1-b2098b4211c4",
   "metadata": {},
   "outputs": [
    {
     "name": "stdout",
     "output_type": "stream",
     "text": [
      "n_iterations: 5\n",
      "n_required_iterations: 5\n",
      "n_possible_iterations: 5\n",
      "min_resources_: 35\n",
      "max_resources_: 2851\n",
      "aggressive_elimination: False\n",
      "factor: 3\n",
      "----------\n",
      "iter: 0\n",
      "n_candidates: 81\n",
      "n_resources: 35\n",
      "Fitting 5 folds for each of 81 candidates, totalling 405 fits\n"
     ]
    }
   ],
   "source": [
    "# XGBoost classification - halvinggridsearch\n",
    "\n",
    "import pandas as pd\n",
    "import numpy as np\n",
    "import xgboost as xgb\n",
    "from sklearn.pipeline import Pipeline\n",
    "from sklearn.model_selection import train_test_split\n",
    "from sklearn.experimental import enable_halving_search_cv\n",
    "from sklearn.model_selection import HalvingGridSearchCV\n",
    "from sklearn.preprocessing import StandardScaler\n",
    "from xgboost import XGBClassifier\n",
    "\n",
    "from sklearn.preprocessing import LabelEncoder\n",
    "\n",
    "data = pd.read_json('./content/video_games_newer_all_data_with_rawg_final_for_train.json')\n",
    "\n",
    "data['User_Score'] = np.where(data['User_Score'] <=3.5, 0, data['User_Score'])\n",
    "data['User_Score'] = np.where((3.5 < data['User_Score']) & ( data['User_Score'] <=7.5), 1 ,data['User_Score'])\n",
    "data['User_Score'] = np.where(7.5 < data['User_Score'] , 2 ,data['User_Score'])\n",
    "# data['User_Score'] = data['User_Score'].astype('category').cat.codes\n",
    "\n",
    "le = LabelEncoder()\n",
    "\n",
    "training, test = train_test_split(data, test_size = 0.25, random_state = 32)\n",
    "\n",
    "features = training.drop(['User_Score'], axis = 1).columns\n",
    "\n",
    "training_features, training_labels = training[features], le.fit_transform(training['User_Score'])\n",
    "test_features, test_labels = test[features], le.fit_transform(test['User_Score'])\n",
    "\n",
    "params = { \n",
    "    'classifier__max_depth': [3,6,10],\n",
    "    'classifier__learning_rate': [0.001, 0.005, 0.01],\n",
    "    'classifier__n_estimators': [100, 500, 1000],\n",
    "    'classifier__colsample_bytree': [0.1, 0.3, 0.7],\n",
    "    'classifier__lambda': [1],\n",
    "    'classifier__gamma': [0]\n",
    "}\n",
    "\n",
    "xgb_pipeline = Pipeline([('scaler', StandardScaler()), ('classifier', XGBClassifier())])\n",
    "clf = HalvingGridSearchCV(\n",
    "    estimator=xgb_pipeline, \n",
    "    param_grid=params,               \n",
    "    scoring='f1_macro', \n",
    "    verbose=1\n",
    ")\n",
    "clf.fit(training_features, training_labels)\n",
    "print(\"Best parameters:\", clf.best_params_)\n",
    "print(\"Best f1-macro: \", clf.best_score_)\n",
    "f1_macro = clf.score(test_features, test_labels)\n",
    "print(f'Score {f1_macro}')"
   ]
  },
  {
   "cell_type": "code",
   "execution_count": null,
   "id": "a692e276-6f0d-4bff-9102-2214a6d4b6fb",
   "metadata": {},
   "outputs": [],
   "source": []
  }
 ],
 "metadata": {
  "kernelspec": {
   "display_name": "Python 3 (ipykernel)",
   "language": "python",
   "name": "python3"
  },
  "language_info": {
   "codemirror_mode": {
    "name": "ipython",
    "version": 3
   },
   "file_extension": ".py",
   "mimetype": "text/x-python",
   "name": "python",
   "nbconvert_exporter": "python",
   "pygments_lexer": "ipython3",
   "version": "3.9.6"
  }
 },
 "nbformat": 4,
 "nbformat_minor": 5
}
