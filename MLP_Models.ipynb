{
  "nbformat": 4,
  "nbformat_minor": 0,
  "metadata": {
    "colab": {
      "provenance": []
    },
    "kernelspec": {
      "name": "python3",
      "display_name": "Python 3"
    },
    "language_info": {
      "name": "python"
    }
  },
  "cells": [
    {
      "cell_type": "code",
      "source": [
        "from sklearn.experimental import enable_halving_search_cv\n",
        "from sklearn.model_selection import HalvingGridSearchCV\n",
        "from sklearn.neural_network import MLPRegressor, MLPClassifier\n",
        "from sklearn.model_selection import cross_val_score\n",
        "from sklearn.model_selection import train_test_split\n",
        "from sklearn.preprocessing import StandardScaler\n",
        "from sklearn.pipeline import Pipeline\n"
      ],
      "metadata": {
        "id": "vaVSNjN6GYjr"
      },
      "execution_count": 2,
      "outputs": []
    },
    {
      "cell_type": "code",
      "source": [
        "#CODE TO READ THE DATA\n",
        "\n",
        "import pandas as pd\n",
        "\n",
        "df_all = pd.read_json('/content/video_games_newer_all_data_with_rawg_final_for_train_v2.json')\n",
        "\n",
        "df_all.head(2)\n"
      ],
      "metadata": {
        "id": "zfnoR_GBG6h4",
        "colab": {
          "base_uri": "https://localhost:8080/",
          "height": 176
        },
        "outputId": "ac8bd751-7065-4ce4-cd50-d8f38ae48493"
      },
      "execution_count": 3,
      "outputs": [
        {
          "output_type": "execute_result",
          "data": {
            "text/plain": [
              "   Year_of_Release  Genre  NA_Sales  EU_Sales  JP_Sales  Other_Sales  \\\n",
              "0             2002      9      0.49      0.38      0.26         0.13   \n",
              "1             2002      9      0.23      0.18      0.20         0.06   \n",
              "\n",
              "   Global_Sales  User_Score  added  screenshots_count  achievements_count  \\\n",
              "0          1.27         8.5     35                 18                   0   \n",
              "1          0.68         8.9     18                 29                   0   \n",
              "\n",
              "   reddit_count  twitch_count  youtube_count  ratings_count  \\\n",
              "0             0             0              0             12   \n",
              "1             0             0              0              4   \n",
              "\n",
              "   suggestions_count  additions_count  game_series_count  reviews_count  \\\n",
              "0                547                0                  8             12   \n",
              "1                446                0                  8              4   \n",
              "\n",
              "   platform_count  \n",
              "0               1  \n",
              "1               1  "
            ],
            "text/html": [
              "\n",
              "  <div id=\"df-024a8e0c-4839-473c-abfa-b2af455996d8\">\n",
              "    <div class=\"colab-df-container\">\n",
              "      <div>\n",
              "<style scoped>\n",
              "    .dataframe tbody tr th:only-of-type {\n",
              "        vertical-align: middle;\n",
              "    }\n",
              "\n",
              "    .dataframe tbody tr th {\n",
              "        vertical-align: top;\n",
              "    }\n",
              "\n",
              "    .dataframe thead th {\n",
              "        text-align: right;\n",
              "    }\n",
              "</style>\n",
              "<table border=\"1\" class=\"dataframe\">\n",
              "  <thead>\n",
              "    <tr style=\"text-align: right;\">\n",
              "      <th></th>\n",
              "      <th>Year_of_Release</th>\n",
              "      <th>Genre</th>\n",
              "      <th>NA_Sales</th>\n",
              "      <th>EU_Sales</th>\n",
              "      <th>JP_Sales</th>\n",
              "      <th>Other_Sales</th>\n",
              "      <th>Global_Sales</th>\n",
              "      <th>User_Score</th>\n",
              "      <th>added</th>\n",
              "      <th>screenshots_count</th>\n",
              "      <th>achievements_count</th>\n",
              "      <th>reddit_count</th>\n",
              "      <th>twitch_count</th>\n",
              "      <th>youtube_count</th>\n",
              "      <th>ratings_count</th>\n",
              "      <th>suggestions_count</th>\n",
              "      <th>additions_count</th>\n",
              "      <th>game_series_count</th>\n",
              "      <th>reviews_count</th>\n",
              "      <th>platform_count</th>\n",
              "    </tr>\n",
              "  </thead>\n",
              "  <tbody>\n",
              "    <tr>\n",
              "      <th>0</th>\n",
              "      <td>2002</td>\n",
              "      <td>9</td>\n",
              "      <td>0.49</td>\n",
              "      <td>0.38</td>\n",
              "      <td>0.26</td>\n",
              "      <td>0.13</td>\n",
              "      <td>1.27</td>\n",
              "      <td>8.5</td>\n",
              "      <td>35</td>\n",
              "      <td>18</td>\n",
              "      <td>0</td>\n",
              "      <td>0</td>\n",
              "      <td>0</td>\n",
              "      <td>0</td>\n",
              "      <td>12</td>\n",
              "      <td>547</td>\n",
              "      <td>0</td>\n",
              "      <td>8</td>\n",
              "      <td>12</td>\n",
              "      <td>1</td>\n",
              "    </tr>\n",
              "    <tr>\n",
              "      <th>1</th>\n",
              "      <td>2002</td>\n",
              "      <td>9</td>\n",
              "      <td>0.23</td>\n",
              "      <td>0.18</td>\n",
              "      <td>0.20</td>\n",
              "      <td>0.06</td>\n",
              "      <td>0.68</td>\n",
              "      <td>8.9</td>\n",
              "      <td>18</td>\n",
              "      <td>29</td>\n",
              "      <td>0</td>\n",
              "      <td>0</td>\n",
              "      <td>0</td>\n",
              "      <td>0</td>\n",
              "      <td>4</td>\n",
              "      <td>446</td>\n",
              "      <td>0</td>\n",
              "      <td>8</td>\n",
              "      <td>4</td>\n",
              "      <td>1</td>\n",
              "    </tr>\n",
              "  </tbody>\n",
              "</table>\n",
              "</div>\n",
              "      <button class=\"colab-df-convert\" onclick=\"convertToInteractive('df-024a8e0c-4839-473c-abfa-b2af455996d8')\"\n",
              "              title=\"Convert this dataframe to an interactive table.\"\n",
              "              style=\"display:none;\">\n",
              "        \n",
              "  <svg xmlns=\"http://www.w3.org/2000/svg\" height=\"24px\"viewBox=\"0 0 24 24\"\n",
              "       width=\"24px\">\n",
              "    <path d=\"M0 0h24v24H0V0z\" fill=\"none\"/>\n",
              "    <path d=\"M18.56 5.44l.94 2.06.94-2.06 2.06-.94-2.06-.94-.94-2.06-.94 2.06-2.06.94zm-11 1L8.5 8.5l.94-2.06 2.06-.94-2.06-.94L8.5 2.5l-.94 2.06-2.06.94zm10 10l.94 2.06.94-2.06 2.06-.94-2.06-.94-.94-2.06-.94 2.06-2.06.94z\"/><path d=\"M17.41 7.96l-1.37-1.37c-.4-.4-.92-.59-1.43-.59-.52 0-1.04.2-1.43.59L10.3 9.45l-7.72 7.72c-.78.78-.78 2.05 0 2.83L4 21.41c.39.39.9.59 1.41.59.51 0 1.02-.2 1.41-.59l7.78-7.78 2.81-2.81c.8-.78.8-2.07 0-2.86zM5.41 20L4 18.59l7.72-7.72 1.47 1.35L5.41 20z\"/>\n",
              "  </svg>\n",
              "      </button>\n",
              "      \n",
              "  <style>\n",
              "    .colab-df-container {\n",
              "      display:flex;\n",
              "      flex-wrap:wrap;\n",
              "      gap: 12px;\n",
              "    }\n",
              "\n",
              "    .colab-df-convert {\n",
              "      background-color: #E8F0FE;\n",
              "      border: none;\n",
              "      border-radius: 50%;\n",
              "      cursor: pointer;\n",
              "      display: none;\n",
              "      fill: #1967D2;\n",
              "      height: 32px;\n",
              "      padding: 0 0 0 0;\n",
              "      width: 32px;\n",
              "    }\n",
              "\n",
              "    .colab-df-convert:hover {\n",
              "      background-color: #E2EBFA;\n",
              "      box-shadow: 0px 1px 2px rgba(60, 64, 67, 0.3), 0px 1px 3px 1px rgba(60, 64, 67, 0.15);\n",
              "      fill: #174EA6;\n",
              "    }\n",
              "\n",
              "    [theme=dark] .colab-df-convert {\n",
              "      background-color: #3B4455;\n",
              "      fill: #D2E3FC;\n",
              "    }\n",
              "\n",
              "    [theme=dark] .colab-df-convert:hover {\n",
              "      background-color: #434B5C;\n",
              "      box-shadow: 0px 1px 3px 1px rgba(0, 0, 0, 0.15);\n",
              "      filter: drop-shadow(0px 1px 2px rgba(0, 0, 0, 0.3));\n",
              "      fill: #FFFFFF;\n",
              "    }\n",
              "  </style>\n",
              "\n",
              "      <script>\n",
              "        const buttonEl =\n",
              "          document.querySelector('#df-024a8e0c-4839-473c-abfa-b2af455996d8 button.colab-df-convert');\n",
              "        buttonEl.style.display =\n",
              "          google.colab.kernel.accessAllowed ? 'block' : 'none';\n",
              "\n",
              "        async function convertToInteractive(key) {\n",
              "          const element = document.querySelector('#df-024a8e0c-4839-473c-abfa-b2af455996d8');\n",
              "          const dataTable =\n",
              "            await google.colab.kernel.invokeFunction('convertToInteractive',\n",
              "                                                     [key], {});\n",
              "          if (!dataTable) return;\n",
              "\n",
              "          const docLinkHtml = 'Like what you see? Visit the ' +\n",
              "            '<a target=\"_blank\" href=https://colab.research.google.com/notebooks/data_table.ipynb>data table notebook</a>'\n",
              "            + ' to learn more about interactive tables.';\n",
              "          element.innerHTML = '';\n",
              "          dataTable['output_type'] = 'display_data';\n",
              "          await google.colab.output.renderOutput(dataTable, element);\n",
              "          const docLink = document.createElement('div');\n",
              "          docLink.innerHTML = docLinkHtml;\n",
              "          element.appendChild(docLink);\n",
              "        }\n",
              "      </script>\n",
              "    </div>\n",
              "  </div>\n",
              "  "
            ]
          },
          "metadata": {},
          "execution_count": 3
        }
      ]
    },
    {
      "cell_type": "code",
      "source": [
        "df_all.columns"
      ],
      "metadata": {
        "colab": {
          "base_uri": "https://localhost:8080/"
        },
        "id": "gkbafx4Dtn3Q",
        "outputId": "d820b80a-c3fd-4556-f0ab-0a32e5771c7d"
      },
      "execution_count": 4,
      "outputs": [
        {
          "output_type": "execute_result",
          "data": {
            "text/plain": [
              "Index(['Year_of_Release', 'Genre', 'NA_Sales', 'EU_Sales', 'JP_Sales',\n",
              "       'Other_Sales', 'Global_Sales', 'User_Score', 'added',\n",
              "       'screenshots_count', 'achievements_count', 'reddit_count',\n",
              "       'twitch_count', 'youtube_count', 'ratings_count', 'suggestions_count',\n",
              "       'additions_count', 'game_series_count', 'reviews_count',\n",
              "       'platform_count'],\n",
              "      dtype='object')"
            ]
          },
          "metadata": {},
          "execution_count": 4
        }
      ]
    },
    {
      "cell_type": "code",
      "source": [
        "df_all = df_all[df_all.NA_Sales <= 6]\n",
        "df_all = df_all.drop(columns = ['Year_of_Release', 'User_Score'])"
      ],
      "metadata": {
        "id": "qx9w-q4KQpCx"
      },
      "execution_count": 5,
      "outputs": []
    },
    {
      "cell_type": "code",
      "source": [
        "cols = ['Genre']\n",
        "df_all[cols] = df_all[cols].apply(lambda x: pd.factorize(x)[0] + 1)"
      ],
      "metadata": {
        "id": "EoWky_3Tvnjn"
      },
      "execution_count": 6,
      "outputs": []
    },
    {
      "cell_type": "code",
      "source": [
        "df_all.head(2)"
      ],
      "metadata": {
        "colab": {
          "base_uri": "https://localhost:8080/",
          "height": 176
        },
        "id": "PlEtMNn-Wh39",
        "outputId": "086327d9-36a0-4ae6-f632-57e98a4995c4"
      },
      "execution_count": 7,
      "outputs": [
        {
          "output_type": "execute_result",
          "data": {
            "text/plain": [
              "   Genre  NA_Sales  EU_Sales  JP_Sales  Other_Sales  Global_Sales  added  \\\n",
              "0      1      0.49      0.38      0.26         0.13          1.27     35   \n",
              "1      1      0.23      0.18      0.20         0.06          0.68     18   \n",
              "\n",
              "   screenshots_count  achievements_count  reddit_count  twitch_count  \\\n",
              "0                 18                   0             0             0   \n",
              "1                 29                   0             0             0   \n",
              "\n",
              "   youtube_count  ratings_count  suggestions_count  additions_count  \\\n",
              "0              0             12                547                0   \n",
              "1              0              4                446                0   \n",
              "\n",
              "   game_series_count  reviews_count  platform_count  \n",
              "0                  8             12               1  \n",
              "1                  8              4               1  "
            ],
            "text/html": [
              "\n",
              "  <div id=\"df-fc67db15-9d17-41c7-9f10-1b83feedc594\">\n",
              "    <div class=\"colab-df-container\">\n",
              "      <div>\n",
              "<style scoped>\n",
              "    .dataframe tbody tr th:only-of-type {\n",
              "        vertical-align: middle;\n",
              "    }\n",
              "\n",
              "    .dataframe tbody tr th {\n",
              "        vertical-align: top;\n",
              "    }\n",
              "\n",
              "    .dataframe thead th {\n",
              "        text-align: right;\n",
              "    }\n",
              "</style>\n",
              "<table border=\"1\" class=\"dataframe\">\n",
              "  <thead>\n",
              "    <tr style=\"text-align: right;\">\n",
              "      <th></th>\n",
              "      <th>Genre</th>\n",
              "      <th>NA_Sales</th>\n",
              "      <th>EU_Sales</th>\n",
              "      <th>JP_Sales</th>\n",
              "      <th>Other_Sales</th>\n",
              "      <th>Global_Sales</th>\n",
              "      <th>added</th>\n",
              "      <th>screenshots_count</th>\n",
              "      <th>achievements_count</th>\n",
              "      <th>reddit_count</th>\n",
              "      <th>twitch_count</th>\n",
              "      <th>youtube_count</th>\n",
              "      <th>ratings_count</th>\n",
              "      <th>suggestions_count</th>\n",
              "      <th>additions_count</th>\n",
              "      <th>game_series_count</th>\n",
              "      <th>reviews_count</th>\n",
              "      <th>platform_count</th>\n",
              "    </tr>\n",
              "  </thead>\n",
              "  <tbody>\n",
              "    <tr>\n",
              "      <th>0</th>\n",
              "      <td>1</td>\n",
              "      <td>0.49</td>\n",
              "      <td>0.38</td>\n",
              "      <td>0.26</td>\n",
              "      <td>0.13</td>\n",
              "      <td>1.27</td>\n",
              "      <td>35</td>\n",
              "      <td>18</td>\n",
              "      <td>0</td>\n",
              "      <td>0</td>\n",
              "      <td>0</td>\n",
              "      <td>0</td>\n",
              "      <td>12</td>\n",
              "      <td>547</td>\n",
              "      <td>0</td>\n",
              "      <td>8</td>\n",
              "      <td>12</td>\n",
              "      <td>1</td>\n",
              "    </tr>\n",
              "    <tr>\n",
              "      <th>1</th>\n",
              "      <td>1</td>\n",
              "      <td>0.23</td>\n",
              "      <td>0.18</td>\n",
              "      <td>0.20</td>\n",
              "      <td>0.06</td>\n",
              "      <td>0.68</td>\n",
              "      <td>18</td>\n",
              "      <td>29</td>\n",
              "      <td>0</td>\n",
              "      <td>0</td>\n",
              "      <td>0</td>\n",
              "      <td>0</td>\n",
              "      <td>4</td>\n",
              "      <td>446</td>\n",
              "      <td>0</td>\n",
              "      <td>8</td>\n",
              "      <td>4</td>\n",
              "      <td>1</td>\n",
              "    </tr>\n",
              "  </tbody>\n",
              "</table>\n",
              "</div>\n",
              "      <button class=\"colab-df-convert\" onclick=\"convertToInteractive('df-fc67db15-9d17-41c7-9f10-1b83feedc594')\"\n",
              "              title=\"Convert this dataframe to an interactive table.\"\n",
              "              style=\"display:none;\">\n",
              "        \n",
              "  <svg xmlns=\"http://www.w3.org/2000/svg\" height=\"24px\"viewBox=\"0 0 24 24\"\n",
              "       width=\"24px\">\n",
              "    <path d=\"M0 0h24v24H0V0z\" fill=\"none\"/>\n",
              "    <path d=\"M18.56 5.44l.94 2.06.94-2.06 2.06-.94-2.06-.94-.94-2.06-.94 2.06-2.06.94zm-11 1L8.5 8.5l.94-2.06 2.06-.94-2.06-.94L8.5 2.5l-.94 2.06-2.06.94zm10 10l.94 2.06.94-2.06 2.06-.94-2.06-.94-.94-2.06-.94 2.06-2.06.94z\"/><path d=\"M17.41 7.96l-1.37-1.37c-.4-.4-.92-.59-1.43-.59-.52 0-1.04.2-1.43.59L10.3 9.45l-7.72 7.72c-.78.78-.78 2.05 0 2.83L4 21.41c.39.39.9.59 1.41.59.51 0 1.02-.2 1.41-.59l7.78-7.78 2.81-2.81c.8-.78.8-2.07 0-2.86zM5.41 20L4 18.59l7.72-7.72 1.47 1.35L5.41 20z\"/>\n",
              "  </svg>\n",
              "      </button>\n",
              "      \n",
              "  <style>\n",
              "    .colab-df-container {\n",
              "      display:flex;\n",
              "      flex-wrap:wrap;\n",
              "      gap: 12px;\n",
              "    }\n",
              "\n",
              "    .colab-df-convert {\n",
              "      background-color: #E8F0FE;\n",
              "      border: none;\n",
              "      border-radius: 50%;\n",
              "      cursor: pointer;\n",
              "      display: none;\n",
              "      fill: #1967D2;\n",
              "      height: 32px;\n",
              "      padding: 0 0 0 0;\n",
              "      width: 32px;\n",
              "    }\n",
              "\n",
              "    .colab-df-convert:hover {\n",
              "      background-color: #E2EBFA;\n",
              "      box-shadow: 0px 1px 2px rgba(60, 64, 67, 0.3), 0px 1px 3px 1px rgba(60, 64, 67, 0.15);\n",
              "      fill: #174EA6;\n",
              "    }\n",
              "\n",
              "    [theme=dark] .colab-df-convert {\n",
              "      background-color: #3B4455;\n",
              "      fill: #D2E3FC;\n",
              "    }\n",
              "\n",
              "    [theme=dark] .colab-df-convert:hover {\n",
              "      background-color: #434B5C;\n",
              "      box-shadow: 0px 1px 3px 1px rgba(0, 0, 0, 0.15);\n",
              "      filter: drop-shadow(0px 1px 2px rgba(0, 0, 0, 0.3));\n",
              "      fill: #FFFFFF;\n",
              "    }\n",
              "  </style>\n",
              "\n",
              "      <script>\n",
              "        const buttonEl =\n",
              "          document.querySelector('#df-fc67db15-9d17-41c7-9f10-1b83feedc594 button.colab-df-convert');\n",
              "        buttonEl.style.display =\n",
              "          google.colab.kernel.accessAllowed ? 'block' : 'none';\n",
              "\n",
              "        async function convertToInteractive(key) {\n",
              "          const element = document.querySelector('#df-fc67db15-9d17-41c7-9f10-1b83feedc594');\n",
              "          const dataTable =\n",
              "            await google.colab.kernel.invokeFunction('convertToInteractive',\n",
              "                                                     [key], {});\n",
              "          if (!dataTable) return;\n",
              "\n",
              "          const docLinkHtml = 'Like what you see? Visit the ' +\n",
              "            '<a target=\"_blank\" href=https://colab.research.google.com/notebooks/data_table.ipynb>data table notebook</a>'\n",
              "            + ' to learn more about interactive tables.';\n",
              "          element.innerHTML = '';\n",
              "          dataTable['output_type'] = 'display_data';\n",
              "          await google.colab.output.renderOutput(dataTable, element);\n",
              "          const docLink = document.createElement('div');\n",
              "          docLink.innerHTML = docLinkHtml;\n",
              "          element.appendChild(docLink);\n",
              "        }\n",
              "      </script>\n",
              "    </div>\n",
              "  </div>\n",
              "  "
            ]
          },
          "metadata": {},
          "execution_count": 7
        }
      ]
    },
    {
      "cell_type": "code",
      "source": [
        "#potential columns to drop\n",
        "\n",
        "#df_all = df_all.drop(columns = ['Year_of_Release', 'screenshots_count', 'additions_count', 'game_series_count'])"
      ],
      "metadata": {
        "id": "zGdLrA3jWc-F"
      },
      "execution_count": 8,
      "outputs": []
    },
    {
      "cell_type": "code",
      "source": [
        "df_all.isna().sum()"
      ],
      "metadata": {
        "colab": {
          "base_uri": "https://localhost:8080/"
        },
        "id": "H1JKKzTdwO2C",
        "outputId": "7267ea0b-5b6f-4e83-eb02-9b94f395be5d"
      },
      "execution_count": 9,
      "outputs": [
        {
          "output_type": "execute_result",
          "data": {
            "text/plain": [
              "Genre                 0\n",
              "NA_Sales              0\n",
              "EU_Sales              0\n",
              "JP_Sales              0\n",
              "Other_Sales           0\n",
              "Global_Sales          0\n",
              "added                 0\n",
              "screenshots_count     0\n",
              "achievements_count    0\n",
              "reddit_count          0\n",
              "twitch_count          0\n",
              "youtube_count         0\n",
              "ratings_count         0\n",
              "suggestions_count     0\n",
              "additions_count       0\n",
              "game_series_count     0\n",
              "reviews_count         0\n",
              "platform_count        0\n",
              "dtype: int64"
            ]
          },
          "metadata": {},
          "execution_count": 9
        }
      ]
    },
    {
      "cell_type": "code",
      "source": [
        "#PREPARE FOR REGRESSION\n",
        "\n",
        "training, test = train_test_split(df_all, test_size = 0.25, random_state = 32)\n",
        "features = training.drop(['NA_Sales', 'EU_Sales', 'JP_Sales', 'Other_Sales', 'Global_Sales'], axis = 1).columns\n",
        "\n",
        "#pipeline.fit(training_features, training_labels)\n"
      ],
      "metadata": {
        "id": "3mvK6RTdzofR"
      },
      "execution_count": 10,
      "outputs": []
    },
    {
      "cell_type": "code",
      "source": [
        "scaler = StandardScaler()"
      ],
      "metadata": {
        "id": "q_hpTO1oWAG0"
      },
      "execution_count": 11,
      "outputs": []
    },
    {
      "cell_type": "code",
      "source": [
        "training[['added', 'screenshots_count', \n",
        "     'achievements_count',\t'reddit_count',\t'twitch_count',\t'youtube_count',\n",
        "     'ratings_count',\t'suggestions_count',\t'additions_count',\n",
        "     'game_series_count',\t'reviews_count']] = scaler.fit_transform(training[['added', 'screenshots_count', \n",
        "     'achievements_count',\t'reddit_count',\t'twitch_count',\t'youtube_count',\n",
        "     'ratings_count',\t'suggestions_count',\t'additions_count',\n",
        "     'game_series_count',\t'reviews_count']])"
      ],
      "metadata": {
        "id": "sOiCeFJ-VYrJ"
      },
      "execution_count": 12,
      "outputs": []
    },
    {
      "cell_type": "code",
      "source": [
        "test[['added', 'screenshots_count', \n",
        "     'achievements_count',\t'reddit_count',\t'twitch_count',\t'youtube_count',\n",
        "     'ratings_count',\t'suggestions_count',\t'additions_count',\n",
        "     'game_series_count',\t'reviews_count']] = scaler.transform(test[['added', 'screenshots_count', \n",
        "     'achievements_count',\t'reddit_count',\t'twitch_count',\t'youtube_count',\n",
        "     'ratings_count',\t'suggestions_count',\t'additions_count',\n",
        "     'game_series_count',\t'reviews_count']])"
      ],
      "metadata": {
        "id": "bbk_FlXvV0ix"
      },
      "execution_count": 13,
      "outputs": []
    },
    {
      "cell_type": "code",
      "source": [
        "\n",
        "training_features, training_labels = training[features], training['NA_Sales']\n",
        "test_features, test_labels = test[features], test['NA_Sales']\n",
        "\n",
        "pipeline = Pipeline([('regressor', MLPRegressor())])"
      ],
      "metadata": {
        "id": "WTblir4qVrpq"
      },
      "execution_count": 14,
      "outputs": []
    },
    {
      "cell_type": "code",
      "execution_count": 15,
      "metadata": {
        "id": "iSUNPXJIFOY1",
        "colab": {
          "base_uri": "https://localhost:8080/"
        },
        "outputId": "e2f62eb6-14a2-4f1b-d34f-afbbcd800bfd"
      },
      "outputs": [
        {
          "output_type": "stream",
          "name": "stdout",
          "text": [
            "n_iterations: 4\n",
            "n_required_iterations: 4\n",
            "n_possible_iterations: 4\n",
            "min_resources_: 104\n",
            "max_resources_: 2819\n",
            "aggressive_elimination: False\n",
            "factor: 3\n",
            "----------\n",
            "iter: 0\n",
            "n_candidates: 36\n",
            "n_resources: 104\n",
            "Fitting 5 folds for each of 36 candidates, totalling 180 fits\n",
            "----------\n",
            "iter: 1\n",
            "n_candidates: 12\n",
            "n_resources: 312\n",
            "Fitting 5 folds for each of 12 candidates, totalling 60 fits\n",
            "----------\n",
            "iter: 2\n",
            "n_candidates: 4\n",
            "n_resources: 936\n",
            "Fitting 5 folds for each of 4 candidates, totalling 20 fits\n",
            "----------\n",
            "iter: 3\n",
            "n_candidates: 2\n",
            "n_resources: 2808\n",
            "Fitting 5 folds for each of 2 candidates, totalling 10 fits\n",
            "{'regressor__activation': 'logistic', 'regressor__alpha': 0.0001, 'regressor__hidden_layer_sizes': (50, 50, 50), 'regressor__learning_rate': 'adaptive', 'regressor__solver': 'adam'}\n",
            "Best score: -0.5060979505934061\n"
          ]
        },
        {
          "output_type": "stream",
          "name": "stderr",
          "text": [
            "/usr/local/lib/python3.9/dist-packages/sklearn/neural_network/_multilayer_perceptron.py:686: ConvergenceWarning: Stochastic Optimizer: Maximum iterations (200) reached and the optimization hasn't converged yet.\n",
            "  warnings.warn(\n"
          ]
        }
      ],
      "source": [
        "#MLP REGRESSION WITH HALVING GRID SEARCH\n",
        "\n",
        "\n",
        "estimator=pipeline\n",
        "\n",
        "\n",
        "param_grid = {'regressor__hidden_layer_sizes': [(50,50,50), (50,100,50), (100,1)],\n",
        "          'regressor__activation': ['relu','tanh','logistic'],\n",
        "          'regressor__alpha': [0.0001, 0.05],\n",
        "          'regressor__learning_rate': ['constant','adaptive'],\n",
        "          'regressor__solver': ['adam']}\n",
        "\n",
        "gsc = HalvingGridSearchCV(\n",
        "    estimator,\n",
        "    param_grid,\n",
        "    cv=5, scoring='neg_mean_squared_error', verbose=1, n_jobs=-1)\n",
        "\n",
        "grid_result = gsc.fit(training_features, training_labels)\n",
        "\n",
        "\n",
        "best_params = grid_result.best_params_\n",
        "\n",
        "print(best_params)\n",
        "\n",
        "print(f'Best score: {grid_result.best_score_}')\n",
        "\n",
        "# best_mlp = MLPRegressor(hidden_layer_sizes = best_params[\"hidden_layer_sizes\"], \n",
        "#                         activation =best_params[\"activation\"],\n",
        "#                         solver=best_params[\"solver\"],\n",
        "#                         max_iter= 5000, n_iter_no_change = 200\n",
        "#               )\n",
        "\n",
        "# scoring = {\n",
        "#            'abs_error': 'neg_mean_absolute_error',\n",
        "#            'squared_error': 'neg_mean_squared_error',\n",
        "#            'r2':'r2'}\n",
        "\n",
        "# scores = cross_val_score(best_mlp, training_features, training_labels, cv=10, scoring=scoring)\n"
      ]
    },
    {
      "cell_type": "code",
      "source": [
        "#JAPAN SALES\n",
        "training_features, training_labels = training[features], training['JP_Sales']\n",
        "test_features, test_labels = test[features], test['JP_Sales']\n",
        "\n",
        "pipeline = Pipeline([('regressor', MLPRegressor())])\n",
        "\n",
        "#MLP REGRESSION WITH HALVING GRID SEARCH\n",
        "\n",
        "\n",
        "estimator=pipeline\n",
        "\n",
        "\n",
        "param_grid = {'regressor__hidden_layer_sizes': [(50,50,50), (50,100,50), (100,1)],\n",
        "          'regressor__activation': ['relu','tanh','logistic'],\n",
        "          'regressor__alpha': [0.0001, 0.05],\n",
        "          'regressor__learning_rate': ['constant','adaptive'],\n",
        "          'regressor__solver': ['adam']}\n",
        "\n",
        "gsc = HalvingGridSearchCV(\n",
        "    estimator,\n",
        "    param_grid,\n",
        "    cv=5, scoring='neg_mean_squared_error', verbose=1, n_jobs=-1)\n",
        "\n",
        "grid_result = gsc.fit(training_features, training_labels)\n",
        "\n",
        "\n",
        "best_params = grid_result.best_params_\n",
        "\n",
        "print(best_params)\n",
        "\n",
        "print(f'Best score: {grid_result.best_score_}')"
      ],
      "metadata": {
        "colab": {
          "base_uri": "https://localhost:8080/"
        },
        "id": "sUJrrwQyVtUl",
        "outputId": "a887e73b-5ec1-4d29-e181-3f6567f023a4"
      },
      "execution_count": 16,
      "outputs": [
        {
          "output_type": "stream",
          "name": "stdout",
          "text": [
            "n_iterations: 4\n",
            "n_required_iterations: 4\n",
            "n_possible_iterations: 4\n",
            "min_resources_: 104\n",
            "max_resources_: 2819\n",
            "aggressive_elimination: False\n",
            "factor: 3\n",
            "----------\n",
            "iter: 0\n",
            "n_candidates: 36\n",
            "n_resources: 104\n",
            "Fitting 5 folds for each of 36 candidates, totalling 180 fits\n",
            "----------\n",
            "iter: 1\n",
            "n_candidates: 12\n",
            "n_resources: 312\n",
            "Fitting 5 folds for each of 12 candidates, totalling 60 fits\n",
            "----------\n",
            "iter: 2\n",
            "n_candidates: 4\n",
            "n_resources: 936\n",
            "Fitting 5 folds for each of 4 candidates, totalling 20 fits\n",
            "----------\n",
            "iter: 3\n",
            "n_candidates: 2\n",
            "n_resources: 2808\n",
            "Fitting 5 folds for each of 2 candidates, totalling 10 fits\n",
            "{'regressor__activation': 'logistic', 'regressor__alpha': 0.05, 'regressor__hidden_layer_sizes': (50, 100, 50), 'regressor__learning_rate': 'constant', 'regressor__solver': 'adam'}\n",
            "Best score: -0.07596431569428548\n"
          ]
        }
      ]
    },
    {
      "cell_type": "code",
      "source": [
        "#EUROPE\n",
        "\n",
        "training = training[training.EU_Sales < 2]\n",
        "training_features, training_labels = training[features], training['EU_Sales']\n",
        "test_features, test_labels = test[features], test['EU_Sales']\n",
        "\n",
        "pipeline = Pipeline([('regressor', MLPRegressor())])\n",
        "\n",
        "#MLP REGRESSION WITH HALVING GRID SEARCH\n",
        "\n",
        "\n",
        "estimator=pipeline\n",
        "\n",
        "\n",
        "param_grid = {'regressor__hidden_layer_sizes': [(50,50,50), (50,100,50), (100,1)],\n",
        "          'regressor__activation': ['relu','tanh','logistic'],\n",
        "          'regressor__alpha': [0.0001, 0.05],\n",
        "          'regressor__learning_rate': ['constant','adaptive'],\n",
        "          'regressor__solver': ['adam']}\n",
        "\n",
        "gsc = HalvingGridSearchCV(\n",
        "    estimator,\n",
        "    param_grid,\n",
        "    cv=5, scoring='neg_mean_squared_error', verbose=1, n_jobs=-1)\n",
        "\n",
        "grid_result = gsc.fit(training_features, training_labels)\n",
        "\n",
        "\n",
        "best_params = grid_result.best_params_\n",
        "\n",
        "print(best_params)\n",
        "\n",
        "print(f'Best score: {grid_result.best_score_}')"
      ],
      "metadata": {
        "colab": {
          "base_uri": "https://localhost:8080/"
        },
        "id": "8bPgGQQWVxHX",
        "outputId": "257e186e-1403-46ad-e553-f3336aa43523"
      },
      "execution_count": 17,
      "outputs": [
        {
          "output_type": "stream",
          "name": "stdout",
          "text": [
            "n_iterations: 4\n",
            "n_required_iterations: 4\n",
            "n_possible_iterations: 4\n",
            "min_resources_: 101\n",
            "max_resources_: 2745\n",
            "aggressive_elimination: False\n",
            "factor: 3\n",
            "----------\n",
            "iter: 0\n",
            "n_candidates: 36\n",
            "n_resources: 101\n",
            "Fitting 5 folds for each of 36 candidates, totalling 180 fits\n",
            "----------\n",
            "iter: 1\n",
            "n_candidates: 12\n",
            "n_resources: 303\n",
            "Fitting 5 folds for each of 12 candidates, totalling 60 fits\n",
            "----------\n",
            "iter: 2\n",
            "n_candidates: 4\n",
            "n_resources: 909\n",
            "Fitting 5 folds for each of 4 candidates, totalling 20 fits\n",
            "----------\n",
            "iter: 3\n",
            "n_candidates: 2\n",
            "n_resources: 2727\n",
            "Fitting 5 folds for each of 2 candidates, totalling 10 fits\n",
            "{'regressor__activation': 'logistic', 'regressor__alpha': 0.05, 'regressor__hidden_layer_sizes': (50, 100, 50), 'regressor__learning_rate': 'adaptive', 'regressor__solver': 'adam'}\n",
            "Best score: -0.10917831219815186\n"
          ]
        }
      ]
    },
    {
      "cell_type": "code",
      "source": [
        "#OTHER\n",
        "\n",
        "training = training[training.Other_Sales < 2]\n",
        "training_features, training_labels = training[features], training['Other_Sales']\n",
        "test_features, test_labels = test[features], test['Other_Sales']\n",
        "\n",
        "pipeline = Pipeline([('regressor', MLPRegressor())])\n",
        "\n",
        "#MLP REGRESSION WITH HALVING GRID SEARCH\n",
        "\n",
        "\n",
        "estimator=pipeline\n",
        "\n",
        "\n",
        "param_grid = {'regressor__hidden_layer_sizes': [(50,50,50), (50,100,50), (100,1)],\n",
        "          'regressor__activation': ['relu','tanh','logistic'],\n",
        "          'regressor__alpha': [0.0001, 0.05],\n",
        "          'regressor__learning_rate': ['constant','adaptive'],\n",
        "          'regressor__solver': ['adam']}\n",
        "\n",
        "gsc = HalvingGridSearchCV(\n",
        "    estimator,\n",
        "    param_grid,\n",
        "    cv=5, scoring='neg_mean_squared_error', verbose=1, n_jobs=-1)\n",
        "\n",
        "grid_result = gsc.fit(training_features, training_labels)\n",
        "\n",
        "\n",
        "best_params = grid_result.best_params_\n",
        "\n",
        "print(best_params)\n",
        "\n",
        "print(f'Best score: {grid_result.best_score_}')"
      ],
      "metadata": {
        "colab": {
          "base_uri": "https://localhost:8080/"
        },
        "id": "foZz7bYSVyUN",
        "outputId": "91e54299-475b-46a0-bc47-157f00f499be"
      },
      "execution_count": 18,
      "outputs": [
        {
          "output_type": "stream",
          "name": "stdout",
          "text": [
            "n_iterations: 4\n",
            "n_required_iterations: 4\n",
            "n_possible_iterations: 4\n",
            "min_resources_: 101\n",
            "max_resources_: 2743\n",
            "aggressive_elimination: False\n",
            "factor: 3\n",
            "----------\n",
            "iter: 0\n",
            "n_candidates: 36\n",
            "n_resources: 101\n",
            "Fitting 5 folds for each of 36 candidates, totalling 180 fits\n",
            "----------\n",
            "iter: 1\n",
            "n_candidates: 12\n",
            "n_resources: 303\n",
            "Fitting 5 folds for each of 12 candidates, totalling 60 fits\n",
            "----------\n",
            "iter: 2\n",
            "n_candidates: 4\n",
            "n_resources: 909\n",
            "Fitting 5 folds for each of 4 candidates, totalling 20 fits\n",
            "----------\n",
            "iter: 3\n",
            "n_candidates: 2\n",
            "n_resources: 2727\n",
            "Fitting 5 folds for each of 2 candidates, totalling 10 fits\n",
            "{'regressor__activation': 'logistic', 'regressor__alpha': 0.0001, 'regressor__hidden_layer_sizes': (50, 100, 50), 'regressor__learning_rate': 'constant', 'regressor__solver': 'adam'}\n",
            "Best score: -0.01632916398738664\n"
          ]
        }
      ]
    },
    {
      "cell_type": "code",
      "source": [
        "df_all = pd.read_json('/content/video_games_newer_all_data_with_rawg_final_for_train_v2.json')"
      ],
      "metadata": {
        "id": "q70AdcqbTTCP"
      },
      "execution_count": 19,
      "outputs": []
    },
    {
      "cell_type": "code",
      "source": [
        "df_all = df_all[df_all.NA_Sales <= 6]\n",
        "df_all = df_all[df_all.EU_Sales <= 2]\n",
        "df_all = df_all[df_all.JP_Sales <= 0.7]\n",
        "df_all = df_all[df_all.Other_Sales <= 2]\n",
        "df_all = df_all[df_all.Global_Sales <= 6]\n",
        "df_all = df_all.drop(columns = ['Year_of_Release','Global_Sales'])"
      ],
      "metadata": {
        "id": "gLUyqgm3TaMj"
      },
      "execution_count": 20,
      "outputs": []
    },
    {
      "cell_type": "code",
      "source": [
        "len(df_all)"
      ],
      "metadata": {
        "colab": {
          "base_uri": "https://localhost:8080/"
        },
        "id": "KmHDG86NcMPc",
        "outputId": "fc500f9b-c276-4abc-856b-11f35bb1cfb6"
      },
      "execution_count": 21,
      "outputs": [
        {
          "output_type": "execute_result",
          "data": {
            "text/plain": [
              "3553"
            ]
          },
          "metadata": {},
          "execution_count": 21
        }
      ]
    },
    {
      "cell_type": "code",
      "source": [
        "#PREPARE DATA FOR CLASSIFICATION\n",
        "import numpy as np\n",
        "\n",
        "tmp = df_all.copy()\n",
        "tmp['User_Score'] = np.where(tmp['User_Score'] < 7.5, 0, tmp['User_Score'])\n",
        "tmp['User_Score'] = np.where(tmp['User_Score'] >= 7.5, 1, tmp['User_Score'])\n",
        "tmp['User_Score'] = tmp['User_Score'].astype('category').cat.codes\n",
        "# tmp['User_Score'] = np.where(tmp['User_Score'] < 6.0, 0, tmp['User_Score'])\n",
        "# tmp['User_Score'] = np.where((6.0 <= tmp['User_Score']) & ( tmp['User_Score'] < 7.0), 1 ,tmp['User_Score'])\n",
        "# tmp['User_Score'] = np.where((7.0 <= tmp['User_Score']) & ( tmp['User_Score'] < 7.5), 2 ,tmp['User_Score'])\n",
        "# tmp['User_Score'] = np.where((7.5 <= tmp['User_Score']) & ( tmp['User_Score'] < 8.0), 3 ,tmp['User_Score'])\n",
        "# tmp['User_Score'] = np.where((8.0 <= tmp['User_Score']) & ( tmp['User_Score'] < 8.5), 4 ,tmp['User_Score'])\n",
        "# tmp['User_Score'] = np.where(8.5 <= tmp['User_Score'] , 5 ,tmp['User_Score'])\n",
        "# tmp['User_Score'] = tmp['User_Score'].astype('category').cat.codes\n"
      ],
      "metadata": {
        "id": "AezYzb7D2-Bs"
      },
      "execution_count": 22,
      "outputs": []
    },
    {
      "cell_type": "code",
      "source": [
        "training, test = train_test_split(tmp, test_size = 0.25, random_state = 32)\n",
        "features = training.drop(['User_Score'], axis = 1).columns"
      ],
      "metadata": {
        "id": "b9KjDVvQYVS8"
      },
      "execution_count": 23,
      "outputs": []
    },
    {
      "cell_type": "code",
      "source": [
        "scaler = StandardScaler()"
      ],
      "metadata": {
        "id": "jmMTebKTW-yP"
      },
      "execution_count": 24,
      "outputs": []
    },
    {
      "cell_type": "code",
      "source": [
        "training[['added', 'screenshots_count', \n",
        "     'achievements_count',\t'reddit_count',\t'twitch_count',\t'youtube_count',\n",
        "     'ratings_count',\t'suggestions_count',\t'additions_count',\n",
        "     'game_series_count',\t'reviews_count','NA_Sales','EU_Sales','JP_Sales','Other_Sales']] = scaler.fit_transform(training[['added', 'screenshots_count', \n",
        "     'achievements_count',\t'reddit_count',\t'twitch_count',\t'youtube_count',\n",
        "     'ratings_count',\t'suggestions_count',\t'additions_count',\n",
        "     'game_series_count',\t'reviews_count','NA_Sales','EU_Sales','JP_Sales','Other_Sales']])"
      ],
      "metadata": {
        "id": "pQzDf93jW-Tf"
      },
      "execution_count": 25,
      "outputs": []
    },
    {
      "cell_type": "code",
      "source": [
        "test[['added', 'screenshots_count', \n",
        "     'achievements_count',\t'reddit_count',\t'twitch_count',\t'youtube_count',\n",
        "     'ratings_count',\t'suggestions_count',\t'additions_count',\n",
        "     'game_series_count',\t'reviews_count','NA_Sales','EU_Sales','JP_Sales','Other_Sales']] = scaler.transform(test[['added', 'screenshots_count', \n",
        "     'achievements_count',\t'reddit_count',\t'twitch_count',\t'youtube_count',\n",
        "     'ratings_count',\t'suggestions_count',\t'additions_count',\n",
        "     'game_series_count',\t'reviews_count','NA_Sales','EU_Sales','JP_Sales','Other_Sales']])"
      ],
      "metadata": {
        "id": "suZ719JVXBhV"
      },
      "execution_count": 26,
      "outputs": []
    },
    {
      "cell_type": "code",
      "source": [
        "\n",
        "training_features, training_labels = training[features], training['User_Score']\n",
        "test_features, test_labels = test[features], test['User_Score']\n",
        "\n",
        "\n",
        "pipeline = Pipeline([('classifier', MLPClassifier(max_iter=100))])"
      ],
      "metadata": {
        "id": "aUe-ukVpXF0R"
      },
      "execution_count": 27,
      "outputs": []
    },
    {
      "cell_type": "code",
      "source": [
        "#MLP CLASSIFICATION WITH HALVING GRID SEARCH\n",
        "\n",
        "mlp_gs = pipeline\n",
        "parameter_space = {\n",
        "    'classifier__hidden_layer_sizes': [(20,50,20),(10,30,10),(20,),(100, 50),(100,50,20)],\n",
        "    'classifier__activation': [ 'tanh', 'relu'],\n",
        "    'classifier__solver': ['adam', 'sgd'],\n",
        "    'classifier__alpha': [0.0001, 0.001, 0.05, 0.1],\n",
        "    'classifier__learning_rate': ['adaptive', 'constant'],\n",
        "    'classifier__batch_size' : [16,32,64,128]\n",
        "}\n",
        "\n",
        "\n",
        "clf = HalvingGridSearchCV(mlp_gs, parameter_space, verbose=1, n_jobs=-1, cv=5, scoring='f1_macro')\n",
        "\n",
        "grid_result = clf.fit(training_features, training_labels)\n",
        "\n",
        "\n",
        "best_params = grid_result.best_params_\n",
        "\n",
        "print(best_params)\n",
        "\n",
        "print(f'Best score: {grid_result.best_score_}')"
      ],
      "metadata": {
        "id": "RwlQcshaGcLB",
        "colab": {
          "base_uri": "https://localhost:8080/"
        },
        "outputId": "3a9f44b0-8366-4dc8-e0bf-59ef4e07411d"
      },
      "execution_count": 28,
      "outputs": [
        {
          "output_type": "stream",
          "name": "stdout",
          "text": [
            "n_iterations: 5\n",
            "n_required_iterations: 6\n",
            "n_possible_iterations: 5\n",
            "min_resources_: 20\n",
            "max_resources_: 2664\n",
            "aggressive_elimination: False\n",
            "factor: 3\n",
            "----------\n",
            "iter: 0\n",
            "n_candidates: 640\n",
            "n_resources: 20\n",
            "Fitting 5 folds for each of 640 candidates, totalling 3200 fits\n",
            "----------\n",
            "iter: 1\n",
            "n_candidates: 214\n",
            "n_resources: 60\n",
            "Fitting 5 folds for each of 214 candidates, totalling 1070 fits\n",
            "----------\n",
            "iter: 2\n",
            "n_candidates: 72\n",
            "n_resources: 180\n",
            "Fitting 5 folds for each of 72 candidates, totalling 360 fits\n",
            "----------\n",
            "iter: 3\n",
            "n_candidates: 24\n",
            "n_resources: 540\n",
            "Fitting 5 folds for each of 24 candidates, totalling 120 fits\n",
            "----------\n",
            "iter: 4\n",
            "n_candidates: 8\n",
            "n_resources: 1620\n",
            "Fitting 5 folds for each of 8 candidates, totalling 40 fits\n",
            "{'classifier__activation': 'tanh', 'classifier__alpha': 0.05, 'classifier__batch_size': 32, 'classifier__hidden_layer_sizes': (100, 50, 20), 'classifier__learning_rate': 'adaptive', 'classifier__solver': 'adam'}\n",
            "Best score: 0.6018835594664721\n"
          ]
        },
        {
          "output_type": "stream",
          "name": "stderr",
          "text": [
            "/usr/local/lib/python3.9/dist-packages/sklearn/neural_network/_multilayer_perceptron.py:686: ConvergenceWarning: Stochastic Optimizer: Maximum iterations (100) reached and the optimization hasn't converged yet.\n",
            "  warnings.warn(\n"
          ]
        }
      ]
    },
    {
      "cell_type": "code",
      "source": [
        "#SVM CLASSIFICATION WITH HALVING GRID SEARCH\n",
        "from sklearn.svm import SVC\n",
        "\n",
        "pipeline = Pipeline([('SVM', SVC())])\n",
        "parameteres = {'SVM__C':[0.001,0.1,10,100,1000,10e5], \n",
        "               'SVM__gamma':[0.1,0.01,0.001,0.0001],\n",
        "               'SVM__kernel': ['rbf']}\n",
        "\n",
        "\n",
        "clf = HalvingGridSearchCV(pipeline, \n",
        "                          parameteres, \n",
        "                          cv=5, \n",
        "                          factor=3, \n",
        "                          min_resources='exhaust', \n",
        "                          verbose=1, \n",
        "                          scoring='f1_macro')\n",
        "\n",
        "clf.fit(training_features, training_labels)\n",
        "\n",
        "\n",
        "print(\"Best parameters:\", clf.best_params_)\n",
        "print(\"Best f1-macro: \", clf.best_score_)\n"
      ],
      "metadata": {
        "id": "G6Wr6-vsCQu7",
        "outputId": "963c3679-1d1f-468f-9eaa-e4d5490429e7",
        "colab": {
          "base_uri": "https://localhost:8080/"
        }
      },
      "execution_count": 32,
      "outputs": [
        {
          "output_type": "stream",
          "name": "stdout",
          "text": [
            "n_iterations: 3\n",
            "n_required_iterations: 3\n",
            "n_possible_iterations: 3\n",
            "min_resources_: 296\n",
            "max_resources_: 2664\n",
            "aggressive_elimination: False\n",
            "factor: 3\n",
            "----------\n",
            "iter: 0\n",
            "n_candidates: 24\n",
            "n_resources: 296\n",
            "Fitting 5 folds for each of 24 candidates, totalling 120 fits\n",
            "----------\n",
            "iter: 1\n",
            "n_candidates: 8\n",
            "n_resources: 888\n",
            "Fitting 5 folds for each of 8 candidates, totalling 40 fits\n",
            "----------\n",
            "iter: 2\n",
            "n_candidates: 3\n",
            "n_resources: 2664\n",
            "Fitting 5 folds for each of 3 candidates, totalling 15 fits\n",
            "Best parameters: {'SVM__C': 100, 'SVM__gamma': 0.01, 'SVM__kernel': 'rbf'}\n",
            "Best f1-macro:  0.620278099390217\n"
          ]
        }
      ]
    },
    {
      "cell_type": "code",
      "source": [
        "import pandas as pd\n",
        "df_steam = pd.read_json('/content/steamspy_all.json')\n",
        "\n",
        "df_steam.head(2)"
      ],
      "metadata": {
        "colab": {
          "base_uri": "https://localhost:8080/",
          "height": 263
        },
        "id": "7p7R_g_6NfKH",
        "outputId": "199b1cb9-fd74-48c4-9ba3-64869b08917c"
      },
      "execution_count": 35,
      "outputs": [
        {
          "output_type": "execute_result",
          "data": {
            "text/plain": [
              "   appid                              name                         developer  \\\n",
              "0    570                            Dota 2                             Valve   \n",
              "1    730  Counter-Strike: Global Offensive  Valve, Hidden Path Entertainment   \n",
              "\n",
              "  publisher score_rank  positive  negative  userscore  \\\n",
              "0     Valve              1596223    333113          0   \n",
              "1     Valve              6129357    805515          0   \n",
              "\n",
              "                       owners  average_forever  average_2weeks  \\\n",
              "0  200,000,000 .. 500,000,000            38179            1530   \n",
              "1   50,000,000 .. 100,000,000            29163             864   \n",
              "\n",
              "   median_forever  median_2weeks  price  initialprice  discount      ccu  \n",
              "0             904            754    0.0           0.0       0.0   470308  \n",
              "1            6238            346    0.0           0.0       0.0  1035784  "
            ],
            "text/html": [
              "\n",
              "  <div id=\"df-bac84447-6532-4ab2-8503-f4da43e8ab34\">\n",
              "    <div class=\"colab-df-container\">\n",
              "      <div>\n",
              "<style scoped>\n",
              "    .dataframe tbody tr th:only-of-type {\n",
              "        vertical-align: middle;\n",
              "    }\n",
              "\n",
              "    .dataframe tbody tr th {\n",
              "        vertical-align: top;\n",
              "    }\n",
              "\n",
              "    .dataframe thead th {\n",
              "        text-align: right;\n",
              "    }\n",
              "</style>\n",
              "<table border=\"1\" class=\"dataframe\">\n",
              "  <thead>\n",
              "    <tr style=\"text-align: right;\">\n",
              "      <th></th>\n",
              "      <th>appid</th>\n",
              "      <th>name</th>\n",
              "      <th>developer</th>\n",
              "      <th>publisher</th>\n",
              "      <th>score_rank</th>\n",
              "      <th>positive</th>\n",
              "      <th>negative</th>\n",
              "      <th>userscore</th>\n",
              "      <th>owners</th>\n",
              "      <th>average_forever</th>\n",
              "      <th>average_2weeks</th>\n",
              "      <th>median_forever</th>\n",
              "      <th>median_2weeks</th>\n",
              "      <th>price</th>\n",
              "      <th>initialprice</th>\n",
              "      <th>discount</th>\n",
              "      <th>ccu</th>\n",
              "    </tr>\n",
              "  </thead>\n",
              "  <tbody>\n",
              "    <tr>\n",
              "      <th>0</th>\n",
              "      <td>570</td>\n",
              "      <td>Dota 2</td>\n",
              "      <td>Valve</td>\n",
              "      <td>Valve</td>\n",
              "      <td></td>\n",
              "      <td>1596223</td>\n",
              "      <td>333113</td>\n",
              "      <td>0</td>\n",
              "      <td>200,000,000 .. 500,000,000</td>\n",
              "      <td>38179</td>\n",
              "      <td>1530</td>\n",
              "      <td>904</td>\n",
              "      <td>754</td>\n",
              "      <td>0.0</td>\n",
              "      <td>0.0</td>\n",
              "      <td>0.0</td>\n",
              "      <td>470308</td>\n",
              "    </tr>\n",
              "    <tr>\n",
              "      <th>1</th>\n",
              "      <td>730</td>\n",
              "      <td>Counter-Strike: Global Offensive</td>\n",
              "      <td>Valve, Hidden Path Entertainment</td>\n",
              "      <td>Valve</td>\n",
              "      <td></td>\n",
              "      <td>6129357</td>\n",
              "      <td>805515</td>\n",
              "      <td>0</td>\n",
              "      <td>50,000,000 .. 100,000,000</td>\n",
              "      <td>29163</td>\n",
              "      <td>864</td>\n",
              "      <td>6238</td>\n",
              "      <td>346</td>\n",
              "      <td>0.0</td>\n",
              "      <td>0.0</td>\n",
              "      <td>0.0</td>\n",
              "      <td>1035784</td>\n",
              "    </tr>\n",
              "  </tbody>\n",
              "</table>\n",
              "</div>\n",
              "      <button class=\"colab-df-convert\" onclick=\"convertToInteractive('df-bac84447-6532-4ab2-8503-f4da43e8ab34')\"\n",
              "              title=\"Convert this dataframe to an interactive table.\"\n",
              "              style=\"display:none;\">\n",
              "        \n",
              "  <svg xmlns=\"http://www.w3.org/2000/svg\" height=\"24px\"viewBox=\"0 0 24 24\"\n",
              "       width=\"24px\">\n",
              "    <path d=\"M0 0h24v24H0V0z\" fill=\"none\"/>\n",
              "    <path d=\"M18.56 5.44l.94 2.06.94-2.06 2.06-.94-2.06-.94-.94-2.06-.94 2.06-2.06.94zm-11 1L8.5 8.5l.94-2.06 2.06-.94-2.06-.94L8.5 2.5l-.94 2.06-2.06.94zm10 10l.94 2.06.94-2.06 2.06-.94-2.06-.94-.94-2.06-.94 2.06-2.06.94z\"/><path d=\"M17.41 7.96l-1.37-1.37c-.4-.4-.92-.59-1.43-.59-.52 0-1.04.2-1.43.59L10.3 9.45l-7.72 7.72c-.78.78-.78 2.05 0 2.83L4 21.41c.39.39.9.59 1.41.59.51 0 1.02-.2 1.41-.59l7.78-7.78 2.81-2.81c.8-.78.8-2.07 0-2.86zM5.41 20L4 18.59l7.72-7.72 1.47 1.35L5.41 20z\"/>\n",
              "  </svg>\n",
              "      </button>\n",
              "      \n",
              "  <style>\n",
              "    .colab-df-container {\n",
              "      display:flex;\n",
              "      flex-wrap:wrap;\n",
              "      gap: 12px;\n",
              "    }\n",
              "\n",
              "    .colab-df-convert {\n",
              "      background-color: #E8F0FE;\n",
              "      border: none;\n",
              "      border-radius: 50%;\n",
              "      cursor: pointer;\n",
              "      display: none;\n",
              "      fill: #1967D2;\n",
              "      height: 32px;\n",
              "      padding: 0 0 0 0;\n",
              "      width: 32px;\n",
              "    }\n",
              "\n",
              "    .colab-df-convert:hover {\n",
              "      background-color: #E2EBFA;\n",
              "      box-shadow: 0px 1px 2px rgba(60, 64, 67, 0.3), 0px 1px 3px 1px rgba(60, 64, 67, 0.15);\n",
              "      fill: #174EA6;\n",
              "    }\n",
              "\n",
              "    [theme=dark] .colab-df-convert {\n",
              "      background-color: #3B4455;\n",
              "      fill: #D2E3FC;\n",
              "    }\n",
              "\n",
              "    [theme=dark] .colab-df-convert:hover {\n",
              "      background-color: #434B5C;\n",
              "      box-shadow: 0px 1px 3px 1px rgba(0, 0, 0, 0.15);\n",
              "      filter: drop-shadow(0px 1px 2px rgba(0, 0, 0, 0.3));\n",
              "      fill: #FFFFFF;\n",
              "    }\n",
              "  </style>\n",
              "\n",
              "      <script>\n",
              "        const buttonEl =\n",
              "          document.querySelector('#df-bac84447-6532-4ab2-8503-f4da43e8ab34 button.colab-df-convert');\n",
              "        buttonEl.style.display =\n",
              "          google.colab.kernel.accessAllowed ? 'block' : 'none';\n",
              "\n",
              "        async function convertToInteractive(key) {\n",
              "          const element = document.querySelector('#df-bac84447-6532-4ab2-8503-f4da43e8ab34');\n",
              "          const dataTable =\n",
              "            await google.colab.kernel.invokeFunction('convertToInteractive',\n",
              "                                                     [key], {});\n",
              "          if (!dataTable) return;\n",
              "\n",
              "          const docLinkHtml = 'Like what you see? Visit the ' +\n",
              "            '<a target=\"_blank\" href=https://colab.research.google.com/notebooks/data_table.ipynb>data table notebook</a>'\n",
              "            + ' to learn more about interactive tables.';\n",
              "          element.innerHTML = '';\n",
              "          dataTable['output_type'] = 'display_data';\n",
              "          await google.colab.output.renderOutput(dataTable, element);\n",
              "          const docLink = document.createElement('div');\n",
              "          docLink.innerHTML = docLinkHtml;\n",
              "          element.appendChild(docLink);\n",
              "        }\n",
              "      </script>\n",
              "    </div>\n",
              "  </div>\n",
              "  "
            ]
          },
          "metadata": {},
          "execution_count": 35
        }
      ]
    },
    {
      "cell_type": "code",
      "source": [
        "df_steam.isna().sum()"
      ],
      "metadata": {
        "colab": {
          "base_uri": "https://localhost:8080/"
        },
        "id": "bwKYYmd_O9C3",
        "outputId": "9956c1be-435f-4fc8-ef6d-9fe0ed63ee8b"
      },
      "execution_count": 36,
      "outputs": [
        {
          "output_type": "execute_result",
          "data": {
            "text/plain": [
              "appid               0\n",
              "name                0\n",
              "developer           0\n",
              "publisher           0\n",
              "score_rank          0\n",
              "positive            0\n",
              "negative            0\n",
              "userscore           0\n",
              "owners              0\n",
              "average_forever     0\n",
              "average_2weeks      0\n",
              "median_forever      0\n",
              "median_2weeks       0\n",
              "price              29\n",
              "initialprice       22\n",
              "discount           22\n",
              "ccu                 0\n",
              "dtype: int64"
            ]
          },
          "metadata": {},
          "execution_count": 36
        }
      ]
    },
    {
      "cell_type": "code",
      "source": [
        "df_steam = df_steam.dropna()"
      ],
      "metadata": {
        "id": "uYp9SB5ZPCWX"
      },
      "execution_count": 37,
      "outputs": []
    },
    {
      "cell_type": "code",
      "source": [
        "df_steam.isna().sum()"
      ],
      "metadata": {
        "colab": {
          "base_uri": "https://localhost:8080/"
        },
        "id": "wKwKWB-XPGUM",
        "outputId": "2afbade3-8297-4fd1-d51d-20377de909cf"
      },
      "execution_count": 38,
      "outputs": [
        {
          "output_type": "execute_result",
          "data": {
            "text/plain": [
              "appid              0\n",
              "name               0\n",
              "developer          0\n",
              "publisher          0\n",
              "score_rank         0\n",
              "positive           0\n",
              "negative           0\n",
              "userscore          0\n",
              "owners             0\n",
              "average_forever    0\n",
              "average_2weeks     0\n",
              "median_forever     0\n",
              "median_2weeks      0\n",
              "price              0\n",
              "initialprice       0\n",
              "discount           0\n",
              "ccu                0\n",
              "dtype: int64"
            ]
          },
          "metadata": {},
          "execution_count": 38
        }
      ]
    },
    {
      "cell_type": "code",
      "source": [
        "len(df_steam)"
      ],
      "metadata": {
        "colab": {
          "base_uri": "https://localhost:8080/"
        },
        "id": "o6sP5V2-PHNp",
        "outputId": "cd7b560f-5389-40d8-c1e8-168c5b40ae26"
      },
      "execution_count": 39,
      "outputs": [
        {
          "output_type": "execute_result",
          "data": {
            "text/plain": [
              "60782"
            ]
          },
          "metadata": {},
          "execution_count": 39
        }
      ]
    },
    {
      "cell_type": "code",
      "source": [
        "df_steam['userscore'].unique()"
      ],
      "metadata": {
        "colab": {
          "base_uri": "https://localhost:8080/"
        },
        "id": "-e2Q12OkPRTd",
        "outputId": "a90061f3-bbe7-4a8b-ba3e-afdd35d2a96c"
      },
      "execution_count": 40,
      "outputs": [
        {
          "output_type": "execute_result",
          "data": {
            "text/plain": [
              "array([  0,  95,  69,  55,  46,  73,  77,  97,  81,  74,  98,  67,  84,\n",
              "        59,  87,  57,  65,  80,  51,  63,  68,  78,  82,  94, 100,  96,\n",
              "        60,  61,  53,  76,  92,  71,  88])"
            ]
          },
          "metadata": {},
          "execution_count": 40
        }
      ]
    },
    {
      "cell_type": "code",
      "source": [
        "df_steam['owners'][:2]"
      ],
      "metadata": {
        "colab": {
          "base_uri": "https://localhost:8080/"
        },
        "id": "ZpECxQuxPbkN",
        "outputId": "97fcd2ad-9670-45fb-d218-d38e06b66359"
      },
      "execution_count": 41,
      "outputs": [
        {
          "output_type": "execute_result",
          "data": {
            "text/plain": [
              "0    200,000,000 .. 500,000,000\n",
              "1     50,000,000 .. 100,000,000\n",
              "Name: owners, dtype: object"
            ]
          },
          "metadata": {},
          "execution_count": 41
        }
      ]
    },
    {
      "cell_type": "code",
      "source": [
        "df_rawg = pd.read_json('/content/rawg_games_details_data_1.json')\n",
        "\n",
        "df_rawg.head(2)"
      ],
      "metadata": {
        "colab": {
          "base_uri": "https://localhost:8080/",
          "height": 379
        },
        "id": "5SpZ3nb3QyVi",
        "outputId": "25f9cdf9-a3d7-4825-8074-a8a56560f0b9"
      },
      "execution_count": 43,
      "outputs": [
        {
          "output_type": "execute_result",
          "data": {
            "text/plain": [
              "      id              slug               name      name_original  \\\n",
              "0  25057        wii-sports         Wii Sports         Wii Sports   \n",
              "1  25080  super-mario-bros  Super Mario Bros.  Super Mario Bros.   \n",
              "\n",
              "                                         description  metacritic  \\\n",
              "0  <p>This is what video games should be: fun for...        76.0   \n",
              "1  <p>Mario and Luigi star in their first ever Mu...         NaN   \n",
              "\n",
              "                                metacritic_platforms    released    tba  \\\n",
              "0  [{'metascore': 76, 'url': 'https://www.metacri...  2006-11-19  False   \n",
              "1                                                 []  1985-09-13  False   \n",
              "\n",
              "               updated  ...  \\\n",
              "0  2023-02-19T20:34:26  ...   \n",
              "1  2023-02-24T18:30:20  ...   \n",
              "\n",
              "                                           platforms  \\\n",
              "0  [{'platform': {'id': 11, 'name': 'Wii', 'slug'...   \n",
              "1  [{'platform': {'id': 24, 'name': 'Game Boy Adv...   \n",
              "\n",
              "                                              stores  \\\n",
              "0  [{'id': 29436, 'url': '', 'store': {'id': 6, '...   \n",
              "1  [{'id': 29465, 'url': '', 'store': {'id': 6, '...   \n",
              "\n",
              "                                          developers  \\\n",
              "0                                                 []   \n",
              "1  [{'id': 16257, 'name': 'Nintendo', 'slug': 'ni...   \n",
              "\n",
              "                                              genres  \\\n",
              "0  [{'id': 15, 'name': 'Sports', 'slug': 'sports'...   \n",
              "1  [{'id': 4, 'name': 'Action', 'slug': 'action',...   \n",
              "\n",
              "                                                tags  \\\n",
              "0  [{'id': 37796, 'name': 'exclusive', 'slug': 'e...   \n",
              "1  [{'id': 31, 'name': 'Singleplayer', 'slug': 's...   \n",
              "\n",
              "                                          publishers esrb_rating  clip  \\\n",
              "0  [{'id': 10681, 'name': 'Nintendo', 'slug': 'ni...        None   NaN   \n",
              "1  [{'id': 10681, 'name': 'Nintendo', 'slug': 'ni...        None   NaN   \n",
              "\n",
              "                                     description_raw  community_rating  \n",
              "0  This is what video games should be: fun for ev...               NaN  \n",
              "1  Mario and Luigi star in their first ever Mushr...               NaN  \n",
              "\n",
              "[2 rows x 55 columns]"
            ],
            "text/html": [
              "\n",
              "  <div id=\"df-b6ce6c97-6f26-49aa-a298-38248c47aedd\">\n",
              "    <div class=\"colab-df-container\">\n",
              "      <div>\n",
              "<style scoped>\n",
              "    .dataframe tbody tr th:only-of-type {\n",
              "        vertical-align: middle;\n",
              "    }\n",
              "\n",
              "    .dataframe tbody tr th {\n",
              "        vertical-align: top;\n",
              "    }\n",
              "\n",
              "    .dataframe thead th {\n",
              "        text-align: right;\n",
              "    }\n",
              "</style>\n",
              "<table border=\"1\" class=\"dataframe\">\n",
              "  <thead>\n",
              "    <tr style=\"text-align: right;\">\n",
              "      <th></th>\n",
              "      <th>id</th>\n",
              "      <th>slug</th>\n",
              "      <th>name</th>\n",
              "      <th>name_original</th>\n",
              "      <th>description</th>\n",
              "      <th>metacritic</th>\n",
              "      <th>metacritic_platforms</th>\n",
              "      <th>released</th>\n",
              "      <th>tba</th>\n",
              "      <th>updated</th>\n",
              "      <th>...</th>\n",
              "      <th>platforms</th>\n",
              "      <th>stores</th>\n",
              "      <th>developers</th>\n",
              "      <th>genres</th>\n",
              "      <th>tags</th>\n",
              "      <th>publishers</th>\n",
              "      <th>esrb_rating</th>\n",
              "      <th>clip</th>\n",
              "      <th>description_raw</th>\n",
              "      <th>community_rating</th>\n",
              "    </tr>\n",
              "  </thead>\n",
              "  <tbody>\n",
              "    <tr>\n",
              "      <th>0</th>\n",
              "      <td>25057</td>\n",
              "      <td>wii-sports</td>\n",
              "      <td>Wii Sports</td>\n",
              "      <td>Wii Sports</td>\n",
              "      <td>&lt;p&gt;This is what video games should be: fun for...</td>\n",
              "      <td>76.0</td>\n",
              "      <td>[{'metascore': 76, 'url': 'https://www.metacri...</td>\n",
              "      <td>2006-11-19</td>\n",
              "      <td>False</td>\n",
              "      <td>2023-02-19T20:34:26</td>\n",
              "      <td>...</td>\n",
              "      <td>[{'platform': {'id': 11, 'name': 'Wii', 'slug'...</td>\n",
              "      <td>[{'id': 29436, 'url': '', 'store': {'id': 6, '...</td>\n",
              "      <td>[]</td>\n",
              "      <td>[{'id': 15, 'name': 'Sports', 'slug': 'sports'...</td>\n",
              "      <td>[{'id': 37796, 'name': 'exclusive', 'slug': 'e...</td>\n",
              "      <td>[{'id': 10681, 'name': 'Nintendo', 'slug': 'ni...</td>\n",
              "      <td>None</td>\n",
              "      <td>NaN</td>\n",
              "      <td>This is what video games should be: fun for ev...</td>\n",
              "      <td>NaN</td>\n",
              "    </tr>\n",
              "    <tr>\n",
              "      <th>1</th>\n",
              "      <td>25080</td>\n",
              "      <td>super-mario-bros</td>\n",
              "      <td>Super Mario Bros.</td>\n",
              "      <td>Super Mario Bros.</td>\n",
              "      <td>&lt;p&gt;Mario and Luigi star in their first ever Mu...</td>\n",
              "      <td>NaN</td>\n",
              "      <td>[]</td>\n",
              "      <td>1985-09-13</td>\n",
              "      <td>False</td>\n",
              "      <td>2023-02-24T18:30:20</td>\n",
              "      <td>...</td>\n",
              "      <td>[{'platform': {'id': 24, 'name': 'Game Boy Adv...</td>\n",
              "      <td>[{'id': 29465, 'url': '', 'store': {'id': 6, '...</td>\n",
              "      <td>[{'id': 16257, 'name': 'Nintendo', 'slug': 'ni...</td>\n",
              "      <td>[{'id': 4, 'name': 'Action', 'slug': 'action',...</td>\n",
              "      <td>[{'id': 31, 'name': 'Singleplayer', 'slug': 's...</td>\n",
              "      <td>[{'id': 10681, 'name': 'Nintendo', 'slug': 'ni...</td>\n",
              "      <td>None</td>\n",
              "      <td>NaN</td>\n",
              "      <td>Mario and Luigi star in their first ever Mushr...</td>\n",
              "      <td>NaN</td>\n",
              "    </tr>\n",
              "  </tbody>\n",
              "</table>\n",
              "<p>2 rows × 55 columns</p>\n",
              "</div>\n",
              "      <button class=\"colab-df-convert\" onclick=\"convertToInteractive('df-b6ce6c97-6f26-49aa-a298-38248c47aedd')\"\n",
              "              title=\"Convert this dataframe to an interactive table.\"\n",
              "              style=\"display:none;\">\n",
              "        \n",
              "  <svg xmlns=\"http://www.w3.org/2000/svg\" height=\"24px\"viewBox=\"0 0 24 24\"\n",
              "       width=\"24px\">\n",
              "    <path d=\"M0 0h24v24H0V0z\" fill=\"none\"/>\n",
              "    <path d=\"M18.56 5.44l.94 2.06.94-2.06 2.06-.94-2.06-.94-.94-2.06-.94 2.06-2.06.94zm-11 1L8.5 8.5l.94-2.06 2.06-.94-2.06-.94L8.5 2.5l-.94 2.06-2.06.94zm10 10l.94 2.06.94-2.06 2.06-.94-2.06-.94-.94-2.06-.94 2.06-2.06.94z\"/><path d=\"M17.41 7.96l-1.37-1.37c-.4-.4-.92-.59-1.43-.59-.52 0-1.04.2-1.43.59L10.3 9.45l-7.72 7.72c-.78.78-.78 2.05 0 2.83L4 21.41c.39.39.9.59 1.41.59.51 0 1.02-.2 1.41-.59l7.78-7.78 2.81-2.81c.8-.78.8-2.07 0-2.86zM5.41 20L4 18.59l7.72-7.72 1.47 1.35L5.41 20z\"/>\n",
              "  </svg>\n",
              "      </button>\n",
              "      \n",
              "  <style>\n",
              "    .colab-df-container {\n",
              "      display:flex;\n",
              "      flex-wrap:wrap;\n",
              "      gap: 12px;\n",
              "    }\n",
              "\n",
              "    .colab-df-convert {\n",
              "      background-color: #E8F0FE;\n",
              "      border: none;\n",
              "      border-radius: 50%;\n",
              "      cursor: pointer;\n",
              "      display: none;\n",
              "      fill: #1967D2;\n",
              "      height: 32px;\n",
              "      padding: 0 0 0 0;\n",
              "      width: 32px;\n",
              "    }\n",
              "\n",
              "    .colab-df-convert:hover {\n",
              "      background-color: #E2EBFA;\n",
              "      box-shadow: 0px 1px 2px rgba(60, 64, 67, 0.3), 0px 1px 3px 1px rgba(60, 64, 67, 0.15);\n",
              "      fill: #174EA6;\n",
              "    }\n",
              "\n",
              "    [theme=dark] .colab-df-convert {\n",
              "      background-color: #3B4455;\n",
              "      fill: #D2E3FC;\n",
              "    }\n",
              "\n",
              "    [theme=dark] .colab-df-convert:hover {\n",
              "      background-color: #434B5C;\n",
              "      box-shadow: 0px 1px 3px 1px rgba(0, 0, 0, 0.15);\n",
              "      filter: drop-shadow(0px 1px 2px rgba(0, 0, 0, 0.3));\n",
              "      fill: #FFFFFF;\n",
              "    }\n",
              "  </style>\n",
              "\n",
              "      <script>\n",
              "        const buttonEl =\n",
              "          document.querySelector('#df-b6ce6c97-6f26-49aa-a298-38248c47aedd button.colab-df-convert');\n",
              "        buttonEl.style.display =\n",
              "          google.colab.kernel.accessAllowed ? 'block' : 'none';\n",
              "\n",
              "        async function convertToInteractive(key) {\n",
              "          const element = document.querySelector('#df-b6ce6c97-6f26-49aa-a298-38248c47aedd');\n",
              "          const dataTable =\n",
              "            await google.colab.kernel.invokeFunction('convertToInteractive',\n",
              "                                                     [key], {});\n",
              "          if (!dataTable) return;\n",
              "\n",
              "          const docLinkHtml = 'Like what you see? Visit the ' +\n",
              "            '<a target=\"_blank\" href=https://colab.research.google.com/notebooks/data_table.ipynb>data table notebook</a>'\n",
              "            + ' to learn more about interactive tables.';\n",
              "          element.innerHTML = '';\n",
              "          dataTable['output_type'] = 'display_data';\n",
              "          await google.colab.output.renderOutput(dataTable, element);\n",
              "          const docLink = document.createElement('div');\n",
              "          docLink.innerHTML = docLinkHtml;\n",
              "          element.appendChild(docLink);\n",
              "        }\n",
              "      </script>\n",
              "    </div>\n",
              "  </div>\n",
              "  "
            ]
          },
          "metadata": {},
          "execution_count": 43
        }
      ]
    },
    {
      "cell_type": "code",
      "source": [
        "df_rawg['name_original'].nunique()"
      ],
      "metadata": {
        "colab": {
          "base_uri": "https://localhost:8080/"
        },
        "id": "bM3If7ajSSh7",
        "outputId": "0e26cab4-fa13-4a31-967a-10ed66c8c4dc"
      },
      "execution_count": 44,
      "outputs": [
        {
          "output_type": "execute_result",
          "data": {
            "text/plain": [
              "5870"
            ]
          },
          "metadata": {},
          "execution_count": 44
        }
      ]
    },
    {
      "cell_type": "code",
      "source": [
        "result = pd.merge(df_rawg, df_steam, how=\"inner\", left_on = \"name_original\", right_on = \"name\")"
      ],
      "metadata": {
        "id": "xPGUQ5BbR9Pz"
      },
      "execution_count": 45,
      "outputs": []
    },
    {
      "cell_type": "code",
      "source": [
        "len(result)"
      ],
      "metadata": {
        "colab": {
          "base_uri": "https://localhost:8080/"
        },
        "id": "fruWyU4YSFjK",
        "outputId": "a0c66786-8e10-4eb8-e3f0-c02f2b6ffe8d"
      },
      "execution_count": 46,
      "outputs": [
        {
          "output_type": "execute_result",
          "data": {
            "text/plain": [
              "641"
            ]
          },
          "metadata": {},
          "execution_count": 46
        }
      ]
    }
  ]
}