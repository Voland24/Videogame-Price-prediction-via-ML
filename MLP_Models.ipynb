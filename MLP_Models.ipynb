{
  "nbformat": 4,
  "nbformat_minor": 0,
  "metadata": {
    "colab": {
      "provenance": []
    },
    "kernelspec": {
      "name": "python3",
      "display_name": "Python 3"
    },
    "language_info": {
      "name": "python"
    }
  },
  "cells": [
    {
      "cell_type": "code",
      "source": [
        "from sklearn.experimental import enable_halving_search_cv\n",
        "from sklearn.model_selection import HalvingGridSearchCV\n",
        "from sklearn.neural_network import MLPRegressor, MLPClassifier\n",
        "from sklearn.model_selection import cross_val_score\n",
        "from sklearn.model_selection import train_test_split\n",
        "from sklearn.preprocessing import StandardScaler\n",
        "from sklearn.pipeline import Pipeline\n"
      ],
      "metadata": {
        "id": "vaVSNjN6GYjr"
      },
      "execution_count": 1,
      "outputs": []
    },
    {
      "cell_type": "code",
      "source": [
        "#CODE TO READ THE DATA\n",
        "\n",
        "import pandas as pd\n",
        "\n",
        "df_all = pd.read_json('/content/video_games_newer_all_data_with_rawg_final_for_train_v2.json')\n",
        "\n",
        "df_all.head(2)\n"
      ],
      "metadata": {
        "id": "zfnoR_GBG6h4",
        "colab": {
          "base_uri": "https://localhost:8080/",
          "height": 176
        },
        "outputId": "386c6a29-ee99-4075-b159-4338b7a74a4e"
      },
      "execution_count": 2,
      "outputs": [
        {
          "output_type": "execute_result",
          "data": {
            "text/plain": [
              "   Year_of_Release  Genre  NA_Sales  EU_Sales  JP_Sales  Other_Sales  \\\n",
              "0             2002      9      0.49      0.38      0.26         0.13   \n",
              "1             2002      9      0.23      0.18      0.20         0.06   \n",
              "\n",
              "   Global_Sales  User_Score  added  screenshots_count  achievements_count  \\\n",
              "0          1.27         8.5     35                 18                   0   \n",
              "1          0.68         8.9     18                 29                   0   \n",
              "\n",
              "   reddit_count  twitch_count  youtube_count  ratings_count  \\\n",
              "0             0             0              0             12   \n",
              "1             0             0              0              4   \n",
              "\n",
              "   suggestions_count  additions_count  game_series_count  reviews_count  \\\n",
              "0                547                0                  8             12   \n",
              "1                446                0                  8              4   \n",
              "\n",
              "   platform_count  \n",
              "0               1  \n",
              "1               1  "
            ],
            "text/html": [
              "\n",
              "  <div id=\"df-5af9aab2-feef-4c17-ab01-85afbfc7d4b3\">\n",
              "    <div class=\"colab-df-container\">\n",
              "      <div>\n",
              "<style scoped>\n",
              "    .dataframe tbody tr th:only-of-type {\n",
              "        vertical-align: middle;\n",
              "    }\n",
              "\n",
              "    .dataframe tbody tr th {\n",
              "        vertical-align: top;\n",
              "    }\n",
              "\n",
              "    .dataframe thead th {\n",
              "        text-align: right;\n",
              "    }\n",
              "</style>\n",
              "<table border=\"1\" class=\"dataframe\">\n",
              "  <thead>\n",
              "    <tr style=\"text-align: right;\">\n",
              "      <th></th>\n",
              "      <th>Year_of_Release</th>\n",
              "      <th>Genre</th>\n",
              "      <th>NA_Sales</th>\n",
              "      <th>EU_Sales</th>\n",
              "      <th>JP_Sales</th>\n",
              "      <th>Other_Sales</th>\n",
              "      <th>Global_Sales</th>\n",
              "      <th>User_Score</th>\n",
              "      <th>added</th>\n",
              "      <th>screenshots_count</th>\n",
              "      <th>achievements_count</th>\n",
              "      <th>reddit_count</th>\n",
              "      <th>twitch_count</th>\n",
              "      <th>youtube_count</th>\n",
              "      <th>ratings_count</th>\n",
              "      <th>suggestions_count</th>\n",
              "      <th>additions_count</th>\n",
              "      <th>game_series_count</th>\n",
              "      <th>reviews_count</th>\n",
              "      <th>platform_count</th>\n",
              "    </tr>\n",
              "  </thead>\n",
              "  <tbody>\n",
              "    <tr>\n",
              "      <th>0</th>\n",
              "      <td>2002</td>\n",
              "      <td>9</td>\n",
              "      <td>0.49</td>\n",
              "      <td>0.38</td>\n",
              "      <td>0.26</td>\n",
              "      <td>0.13</td>\n",
              "      <td>1.27</td>\n",
              "      <td>8.5</td>\n",
              "      <td>35</td>\n",
              "      <td>18</td>\n",
              "      <td>0</td>\n",
              "      <td>0</td>\n",
              "      <td>0</td>\n",
              "      <td>0</td>\n",
              "      <td>12</td>\n",
              "      <td>547</td>\n",
              "      <td>0</td>\n",
              "      <td>8</td>\n",
              "      <td>12</td>\n",
              "      <td>1</td>\n",
              "    </tr>\n",
              "    <tr>\n",
              "      <th>1</th>\n",
              "      <td>2002</td>\n",
              "      <td>9</td>\n",
              "      <td>0.23</td>\n",
              "      <td>0.18</td>\n",
              "      <td>0.20</td>\n",
              "      <td>0.06</td>\n",
              "      <td>0.68</td>\n",
              "      <td>8.9</td>\n",
              "      <td>18</td>\n",
              "      <td>29</td>\n",
              "      <td>0</td>\n",
              "      <td>0</td>\n",
              "      <td>0</td>\n",
              "      <td>0</td>\n",
              "      <td>4</td>\n",
              "      <td>446</td>\n",
              "      <td>0</td>\n",
              "      <td>8</td>\n",
              "      <td>4</td>\n",
              "      <td>1</td>\n",
              "    </tr>\n",
              "  </tbody>\n",
              "</table>\n",
              "</div>\n",
              "      <button class=\"colab-df-convert\" onclick=\"convertToInteractive('df-5af9aab2-feef-4c17-ab01-85afbfc7d4b3')\"\n",
              "              title=\"Convert this dataframe to an interactive table.\"\n",
              "              style=\"display:none;\">\n",
              "        \n",
              "  <svg xmlns=\"http://www.w3.org/2000/svg\" height=\"24px\"viewBox=\"0 0 24 24\"\n",
              "       width=\"24px\">\n",
              "    <path d=\"M0 0h24v24H0V0z\" fill=\"none\"/>\n",
              "    <path d=\"M18.56 5.44l.94 2.06.94-2.06 2.06-.94-2.06-.94-.94-2.06-.94 2.06-2.06.94zm-11 1L8.5 8.5l.94-2.06 2.06-.94-2.06-.94L8.5 2.5l-.94 2.06-2.06.94zm10 10l.94 2.06.94-2.06 2.06-.94-2.06-.94-.94-2.06-.94 2.06-2.06.94z\"/><path d=\"M17.41 7.96l-1.37-1.37c-.4-.4-.92-.59-1.43-.59-.52 0-1.04.2-1.43.59L10.3 9.45l-7.72 7.72c-.78.78-.78 2.05 0 2.83L4 21.41c.39.39.9.59 1.41.59.51 0 1.02-.2 1.41-.59l7.78-7.78 2.81-2.81c.8-.78.8-2.07 0-2.86zM5.41 20L4 18.59l7.72-7.72 1.47 1.35L5.41 20z\"/>\n",
              "  </svg>\n",
              "      </button>\n",
              "      \n",
              "  <style>\n",
              "    .colab-df-container {\n",
              "      display:flex;\n",
              "      flex-wrap:wrap;\n",
              "      gap: 12px;\n",
              "    }\n",
              "\n",
              "    .colab-df-convert {\n",
              "      background-color: #E8F0FE;\n",
              "      border: none;\n",
              "      border-radius: 50%;\n",
              "      cursor: pointer;\n",
              "      display: none;\n",
              "      fill: #1967D2;\n",
              "      height: 32px;\n",
              "      padding: 0 0 0 0;\n",
              "      width: 32px;\n",
              "    }\n",
              "\n",
              "    .colab-df-convert:hover {\n",
              "      background-color: #E2EBFA;\n",
              "      box-shadow: 0px 1px 2px rgba(60, 64, 67, 0.3), 0px 1px 3px 1px rgba(60, 64, 67, 0.15);\n",
              "      fill: #174EA6;\n",
              "    }\n",
              "\n",
              "    [theme=dark] .colab-df-convert {\n",
              "      background-color: #3B4455;\n",
              "      fill: #D2E3FC;\n",
              "    }\n",
              "\n",
              "    [theme=dark] .colab-df-convert:hover {\n",
              "      background-color: #434B5C;\n",
              "      box-shadow: 0px 1px 3px 1px rgba(0, 0, 0, 0.15);\n",
              "      filter: drop-shadow(0px 1px 2px rgba(0, 0, 0, 0.3));\n",
              "      fill: #FFFFFF;\n",
              "    }\n",
              "  </style>\n",
              "\n",
              "      <script>\n",
              "        const buttonEl =\n",
              "          document.querySelector('#df-5af9aab2-feef-4c17-ab01-85afbfc7d4b3 button.colab-df-convert');\n",
              "        buttonEl.style.display =\n",
              "          google.colab.kernel.accessAllowed ? 'block' : 'none';\n",
              "\n",
              "        async function convertToInteractive(key) {\n",
              "          const element = document.querySelector('#df-5af9aab2-feef-4c17-ab01-85afbfc7d4b3');\n",
              "          const dataTable =\n",
              "            await google.colab.kernel.invokeFunction('convertToInteractive',\n",
              "                                                     [key], {});\n",
              "          if (!dataTable) return;\n",
              "\n",
              "          const docLinkHtml = 'Like what you see? Visit the ' +\n",
              "            '<a target=\"_blank\" href=https://colab.research.google.com/notebooks/data_table.ipynb>data table notebook</a>'\n",
              "            + ' to learn more about interactive tables.';\n",
              "          element.innerHTML = '';\n",
              "          dataTable['output_type'] = 'display_data';\n",
              "          await google.colab.output.renderOutput(dataTable, element);\n",
              "          const docLink = document.createElement('div');\n",
              "          docLink.innerHTML = docLinkHtml;\n",
              "          element.appendChild(docLink);\n",
              "        }\n",
              "      </script>\n",
              "    </div>\n",
              "  </div>\n",
              "  "
            ]
          },
          "metadata": {},
          "execution_count": 2
        }
      ]
    },
    {
      "cell_type": "code",
      "source": [
        "df_all.columns"
      ],
      "metadata": {
        "colab": {
          "base_uri": "https://localhost:8080/"
        },
        "id": "gkbafx4Dtn3Q",
        "outputId": "c06a6aeb-44eb-428d-a22e-b52d4a0eb90d"
      },
      "execution_count": 3,
      "outputs": [
        {
          "output_type": "execute_result",
          "data": {
            "text/plain": [
              "Index(['Year_of_Release', 'Genre', 'NA_Sales', 'EU_Sales', 'JP_Sales',\n",
              "       'Other_Sales', 'Global_Sales', 'User_Score', 'added',\n",
              "       'screenshots_count', 'achievements_count', 'reddit_count',\n",
              "       'twitch_count', 'youtube_count', 'ratings_count', 'suggestions_count',\n",
              "       'additions_count', 'game_series_count', 'reviews_count',\n",
              "       'platform_count'],\n",
              "      dtype='object')"
            ]
          },
          "metadata": {},
          "execution_count": 3
        }
      ]
    },
    {
      "cell_type": "code",
      "source": [
        "df_all = df_all[df_all.NA_Sales <= 6]\n",
        "df_all = df_all.drop(columns = ['Year_of_Release', 'User_Score'])"
      ],
      "metadata": {
        "id": "qx9w-q4KQpCx"
      },
      "execution_count": 4,
      "outputs": []
    },
    {
      "cell_type": "code",
      "source": [
        "cols = ['Genre']\n",
        "df_all[cols] = df_all[cols].apply(lambda x: pd.factorize(x)[0] + 1)"
      ],
      "metadata": {
        "id": "EoWky_3Tvnjn"
      },
      "execution_count": 5,
      "outputs": []
    },
    {
      "cell_type": "code",
      "source": [
        "df_all.head(2)"
      ],
      "metadata": {
        "colab": {
          "base_uri": "https://localhost:8080/",
          "height": 176
        },
        "id": "PlEtMNn-Wh39",
        "outputId": "3a2e69e0-5934-435a-f445-43b7ad3f38fe"
      },
      "execution_count": 6,
      "outputs": [
        {
          "output_type": "execute_result",
          "data": {
            "text/plain": [
              "   Genre  NA_Sales  EU_Sales  JP_Sales  Other_Sales  Global_Sales  added  \\\n",
              "0      1      0.49      0.38      0.26         0.13          1.27     35   \n",
              "1      1      0.23      0.18      0.20         0.06          0.68     18   \n",
              "\n",
              "   screenshots_count  achievements_count  reddit_count  twitch_count  \\\n",
              "0                 18                   0             0             0   \n",
              "1                 29                   0             0             0   \n",
              "\n",
              "   youtube_count  ratings_count  suggestions_count  additions_count  \\\n",
              "0              0             12                547                0   \n",
              "1              0              4                446                0   \n",
              "\n",
              "   game_series_count  reviews_count  platform_count  \n",
              "0                  8             12               1  \n",
              "1                  8              4               1  "
            ],
            "text/html": [
              "\n",
              "  <div id=\"df-98ed1b59-2173-4a14-bda8-2f05b2237892\">\n",
              "    <div class=\"colab-df-container\">\n",
              "      <div>\n",
              "<style scoped>\n",
              "    .dataframe tbody tr th:only-of-type {\n",
              "        vertical-align: middle;\n",
              "    }\n",
              "\n",
              "    .dataframe tbody tr th {\n",
              "        vertical-align: top;\n",
              "    }\n",
              "\n",
              "    .dataframe thead th {\n",
              "        text-align: right;\n",
              "    }\n",
              "</style>\n",
              "<table border=\"1\" class=\"dataframe\">\n",
              "  <thead>\n",
              "    <tr style=\"text-align: right;\">\n",
              "      <th></th>\n",
              "      <th>Genre</th>\n",
              "      <th>NA_Sales</th>\n",
              "      <th>EU_Sales</th>\n",
              "      <th>JP_Sales</th>\n",
              "      <th>Other_Sales</th>\n",
              "      <th>Global_Sales</th>\n",
              "      <th>added</th>\n",
              "      <th>screenshots_count</th>\n",
              "      <th>achievements_count</th>\n",
              "      <th>reddit_count</th>\n",
              "      <th>twitch_count</th>\n",
              "      <th>youtube_count</th>\n",
              "      <th>ratings_count</th>\n",
              "      <th>suggestions_count</th>\n",
              "      <th>additions_count</th>\n",
              "      <th>game_series_count</th>\n",
              "      <th>reviews_count</th>\n",
              "      <th>platform_count</th>\n",
              "    </tr>\n",
              "  </thead>\n",
              "  <tbody>\n",
              "    <tr>\n",
              "      <th>0</th>\n",
              "      <td>1</td>\n",
              "      <td>0.49</td>\n",
              "      <td>0.38</td>\n",
              "      <td>0.26</td>\n",
              "      <td>0.13</td>\n",
              "      <td>1.27</td>\n",
              "      <td>35</td>\n",
              "      <td>18</td>\n",
              "      <td>0</td>\n",
              "      <td>0</td>\n",
              "      <td>0</td>\n",
              "      <td>0</td>\n",
              "      <td>12</td>\n",
              "      <td>547</td>\n",
              "      <td>0</td>\n",
              "      <td>8</td>\n",
              "      <td>12</td>\n",
              "      <td>1</td>\n",
              "    </tr>\n",
              "    <tr>\n",
              "      <th>1</th>\n",
              "      <td>1</td>\n",
              "      <td>0.23</td>\n",
              "      <td>0.18</td>\n",
              "      <td>0.20</td>\n",
              "      <td>0.06</td>\n",
              "      <td>0.68</td>\n",
              "      <td>18</td>\n",
              "      <td>29</td>\n",
              "      <td>0</td>\n",
              "      <td>0</td>\n",
              "      <td>0</td>\n",
              "      <td>0</td>\n",
              "      <td>4</td>\n",
              "      <td>446</td>\n",
              "      <td>0</td>\n",
              "      <td>8</td>\n",
              "      <td>4</td>\n",
              "      <td>1</td>\n",
              "    </tr>\n",
              "  </tbody>\n",
              "</table>\n",
              "</div>\n",
              "      <button class=\"colab-df-convert\" onclick=\"convertToInteractive('df-98ed1b59-2173-4a14-bda8-2f05b2237892')\"\n",
              "              title=\"Convert this dataframe to an interactive table.\"\n",
              "              style=\"display:none;\">\n",
              "        \n",
              "  <svg xmlns=\"http://www.w3.org/2000/svg\" height=\"24px\"viewBox=\"0 0 24 24\"\n",
              "       width=\"24px\">\n",
              "    <path d=\"M0 0h24v24H0V0z\" fill=\"none\"/>\n",
              "    <path d=\"M18.56 5.44l.94 2.06.94-2.06 2.06-.94-2.06-.94-.94-2.06-.94 2.06-2.06.94zm-11 1L8.5 8.5l.94-2.06 2.06-.94-2.06-.94L8.5 2.5l-.94 2.06-2.06.94zm10 10l.94 2.06.94-2.06 2.06-.94-2.06-.94-.94-2.06-.94 2.06-2.06.94z\"/><path d=\"M17.41 7.96l-1.37-1.37c-.4-.4-.92-.59-1.43-.59-.52 0-1.04.2-1.43.59L10.3 9.45l-7.72 7.72c-.78.78-.78 2.05 0 2.83L4 21.41c.39.39.9.59 1.41.59.51 0 1.02-.2 1.41-.59l7.78-7.78 2.81-2.81c.8-.78.8-2.07 0-2.86zM5.41 20L4 18.59l7.72-7.72 1.47 1.35L5.41 20z\"/>\n",
              "  </svg>\n",
              "      </button>\n",
              "      \n",
              "  <style>\n",
              "    .colab-df-container {\n",
              "      display:flex;\n",
              "      flex-wrap:wrap;\n",
              "      gap: 12px;\n",
              "    }\n",
              "\n",
              "    .colab-df-convert {\n",
              "      background-color: #E8F0FE;\n",
              "      border: none;\n",
              "      border-radius: 50%;\n",
              "      cursor: pointer;\n",
              "      display: none;\n",
              "      fill: #1967D2;\n",
              "      height: 32px;\n",
              "      padding: 0 0 0 0;\n",
              "      width: 32px;\n",
              "    }\n",
              "\n",
              "    .colab-df-convert:hover {\n",
              "      background-color: #E2EBFA;\n",
              "      box-shadow: 0px 1px 2px rgba(60, 64, 67, 0.3), 0px 1px 3px 1px rgba(60, 64, 67, 0.15);\n",
              "      fill: #174EA6;\n",
              "    }\n",
              "\n",
              "    [theme=dark] .colab-df-convert {\n",
              "      background-color: #3B4455;\n",
              "      fill: #D2E3FC;\n",
              "    }\n",
              "\n",
              "    [theme=dark] .colab-df-convert:hover {\n",
              "      background-color: #434B5C;\n",
              "      box-shadow: 0px 1px 3px 1px rgba(0, 0, 0, 0.15);\n",
              "      filter: drop-shadow(0px 1px 2px rgba(0, 0, 0, 0.3));\n",
              "      fill: #FFFFFF;\n",
              "    }\n",
              "  </style>\n",
              "\n",
              "      <script>\n",
              "        const buttonEl =\n",
              "          document.querySelector('#df-98ed1b59-2173-4a14-bda8-2f05b2237892 button.colab-df-convert');\n",
              "        buttonEl.style.display =\n",
              "          google.colab.kernel.accessAllowed ? 'block' : 'none';\n",
              "\n",
              "        async function convertToInteractive(key) {\n",
              "          const element = document.querySelector('#df-98ed1b59-2173-4a14-bda8-2f05b2237892');\n",
              "          const dataTable =\n",
              "            await google.colab.kernel.invokeFunction('convertToInteractive',\n",
              "                                                     [key], {});\n",
              "          if (!dataTable) return;\n",
              "\n",
              "          const docLinkHtml = 'Like what you see? Visit the ' +\n",
              "            '<a target=\"_blank\" href=https://colab.research.google.com/notebooks/data_table.ipynb>data table notebook</a>'\n",
              "            + ' to learn more about interactive tables.';\n",
              "          element.innerHTML = '';\n",
              "          dataTable['output_type'] = 'display_data';\n",
              "          await google.colab.output.renderOutput(dataTable, element);\n",
              "          const docLink = document.createElement('div');\n",
              "          docLink.innerHTML = docLinkHtml;\n",
              "          element.appendChild(docLink);\n",
              "        }\n",
              "      </script>\n",
              "    </div>\n",
              "  </div>\n",
              "  "
            ]
          },
          "metadata": {},
          "execution_count": 6
        }
      ]
    },
    {
      "cell_type": "code",
      "source": [
        "#potential columns to drop\n",
        "\n",
        "#df_all = df_all.drop(columns = ['Year_of_Release', 'screenshots_count', 'additions_count', 'game_series_count'])"
      ],
      "metadata": {
        "id": "zGdLrA3jWc-F"
      },
      "execution_count": null,
      "outputs": []
    },
    {
      "cell_type": "code",
      "source": [
        "df_all.isna().sum()"
      ],
      "metadata": {
        "colab": {
          "base_uri": "https://localhost:8080/"
        },
        "id": "H1JKKzTdwO2C",
        "outputId": "a452b27c-cbde-428e-a7f8-14177f63ec50"
      },
      "execution_count": 7,
      "outputs": [
        {
          "output_type": "execute_result",
          "data": {
            "text/plain": [
              "Genre                 0\n",
              "NA_Sales              0\n",
              "EU_Sales              0\n",
              "JP_Sales              0\n",
              "Other_Sales           0\n",
              "Global_Sales          0\n",
              "added                 0\n",
              "screenshots_count     0\n",
              "achievements_count    0\n",
              "reddit_count          0\n",
              "twitch_count          0\n",
              "youtube_count         0\n",
              "ratings_count         0\n",
              "suggestions_count     0\n",
              "additions_count       0\n",
              "game_series_count     0\n",
              "reviews_count         0\n",
              "platform_count        0\n",
              "dtype: int64"
            ]
          },
          "metadata": {},
          "execution_count": 7
        }
      ]
    },
    {
      "cell_type": "code",
      "source": [
        "#PREPARE FOR REGRESSION\n",
        "\n",
        "training, test = train_test_split(df_all, test_size = 0.25, random_state = 32)\n",
        "features = training.drop(['NA_Sales', 'EU_Sales', 'JP_Sales', 'Other_Sales', 'Global_Sales'], axis = 1).columns\n",
        "\n",
        "#pipeline.fit(training_features, training_labels)\n"
      ],
      "metadata": {
        "id": "3mvK6RTdzofR"
      },
      "execution_count": 8,
      "outputs": []
    },
    {
      "cell_type": "code",
      "source": [
        "scaler = StandardScaler()"
      ],
      "metadata": {
        "id": "q_hpTO1oWAG0"
      },
      "execution_count": 9,
      "outputs": []
    },
    {
      "cell_type": "code",
      "source": [
        "training[['added', 'screenshots_count', \n",
        "     'achievements_count',\t'reddit_count',\t'twitch_count',\t'youtube_count',\n",
        "     'ratings_count',\t'suggestions_count',\t'additions_count',\n",
        "     'game_series_count',\t'reviews_count']] = scaler.fit_transform(training[['added', 'screenshots_count', \n",
        "     'achievements_count',\t'reddit_count',\t'twitch_count',\t'youtube_count',\n",
        "     'ratings_count',\t'suggestions_count',\t'additions_count',\n",
        "     'game_series_count',\t'reviews_count']])"
      ],
      "metadata": {
        "id": "sOiCeFJ-VYrJ"
      },
      "execution_count": 11,
      "outputs": []
    },
    {
      "cell_type": "code",
      "source": [
        "test[['added', 'screenshots_count', \n",
        "     'achievements_count',\t'reddit_count',\t'twitch_count',\t'youtube_count',\n",
        "     'ratings_count',\t'suggestions_count',\t'additions_count',\n",
        "     'game_series_count',\t'reviews_count']] = scaler.transform(test[['added', 'screenshots_count', \n",
        "     'achievements_count',\t'reddit_count',\t'twitch_count',\t'youtube_count',\n",
        "     'ratings_count',\t'suggestions_count',\t'additions_count',\n",
        "     'game_series_count',\t'reviews_count']])"
      ],
      "metadata": {
        "id": "bbk_FlXvV0ix"
      },
      "execution_count": 12,
      "outputs": []
    },
    {
      "cell_type": "code",
      "source": [
        "\n",
        "training_features, training_labels = training[features], training['NA_Sales']\n",
        "test_features, test_labels = test[features], test['NA_Sales']\n",
        "\n",
        "pipeline = Pipeline([('regressor', MLPRegressor())])"
      ],
      "metadata": {
        "id": "WTblir4qVrpq"
      },
      "execution_count": 13,
      "outputs": []
    },
    {
      "cell_type": "code",
      "execution_count": 14,
      "metadata": {
        "id": "iSUNPXJIFOY1",
        "colab": {
          "base_uri": "https://localhost:8080/"
        },
        "outputId": "5e135170-9e3d-4752-871a-99b0ac6bd3f0"
      },
      "outputs": [
        {
          "output_type": "stream",
          "name": "stdout",
          "text": [
            "n_iterations: 4\n",
            "n_required_iterations: 4\n",
            "n_possible_iterations: 4\n",
            "min_resources_: 104\n",
            "max_resources_: 2819\n",
            "aggressive_elimination: False\n",
            "factor: 3\n",
            "----------\n",
            "iter: 0\n",
            "n_candidates: 36\n",
            "n_resources: 104\n",
            "Fitting 5 folds for each of 36 candidates, totalling 180 fits\n",
            "----------\n",
            "iter: 1\n",
            "n_candidates: 12\n",
            "n_resources: 312\n",
            "Fitting 5 folds for each of 12 candidates, totalling 60 fits\n",
            "----------\n",
            "iter: 2\n",
            "n_candidates: 4\n",
            "n_resources: 936\n",
            "Fitting 5 folds for each of 4 candidates, totalling 20 fits\n",
            "----------\n",
            "iter: 3\n",
            "n_candidates: 2\n",
            "n_resources: 2808\n",
            "Fitting 5 folds for each of 2 candidates, totalling 10 fits\n",
            "{'regressor__activation': 'logistic', 'regressor__alpha': 0.0001, 'regressor__hidden_layer_sizes': (50, 50, 50), 'regressor__learning_rate': 'adaptive', 'regressor__solver': 'adam'}\n",
            "Best score: -0.5029587943373568\n"
          ]
        },
        {
          "output_type": "stream",
          "name": "stderr",
          "text": [
            "/usr/local/lib/python3.9/dist-packages/sklearn/neural_network/_multilayer_perceptron.py:686: ConvergenceWarning: Stochastic Optimizer: Maximum iterations (200) reached and the optimization hasn't converged yet.\n",
            "  warnings.warn(\n"
          ]
        }
      ],
      "source": [
        "#MLP REGRESSION WITH HALVING GRID SEARCH\n",
        "\n",
        "\n",
        "estimator=pipeline\n",
        "\n",
        "\n",
        "param_grid = {'regressor__hidden_layer_sizes': [(50,50,50), (50,100,50), (100,1)],\n",
        "          'regressor__activation': ['relu','tanh','logistic'],\n",
        "          'regressor__alpha': [0.0001, 0.05],\n",
        "          'regressor__learning_rate': ['constant','adaptive'],\n",
        "          'regressor__solver': ['adam']}\n",
        "\n",
        "gsc = HalvingGridSearchCV(\n",
        "    estimator,\n",
        "    param_grid,\n",
        "    cv=5, scoring='neg_mean_squared_error', verbose=1, n_jobs=-1)\n",
        "\n",
        "grid_result = gsc.fit(training_features, training_labels)\n",
        "\n",
        "\n",
        "best_params = grid_result.best_params_\n",
        "\n",
        "print(best_params)\n",
        "\n",
        "print(f'Best score: {grid_result.best_score_}')\n",
        "\n",
        "# best_mlp = MLPRegressor(hidden_layer_sizes = best_params[\"hidden_layer_sizes\"], \n",
        "#                         activation =best_params[\"activation\"],\n",
        "#                         solver=best_params[\"solver\"],\n",
        "#                         max_iter= 5000, n_iter_no_change = 200\n",
        "#               )\n",
        "\n",
        "# scoring = {\n",
        "#            'abs_error': 'neg_mean_absolute_error',\n",
        "#            'squared_error': 'neg_mean_squared_error',\n",
        "#            'r2':'r2'}\n",
        "\n",
        "# scores = cross_val_score(best_mlp, training_features, training_labels, cv=10, scoring=scoring)\n"
      ]
    },
    {
      "cell_type": "code",
      "source": [
        "#JAPAN SALES\n",
        "training_features, training_labels = training[features], training['JP_Sales']\n",
        "test_features, test_labels = test[features], test['JP_Sales']\n",
        "\n",
        "pipeline = Pipeline([('regressor', MLPRegressor())])\n",
        "\n",
        "#MLP REGRESSION WITH HALVING GRID SEARCH\n",
        "\n",
        "\n",
        "estimator=pipeline\n",
        "\n",
        "\n",
        "param_grid = {'regressor__hidden_layer_sizes': [(50,50,50), (50,100,50), (100,1)],\n",
        "          'regressor__activation': ['relu','tanh','logistic'],\n",
        "          'regressor__alpha': [0.0001, 0.05],\n",
        "          'regressor__learning_rate': ['constant','adaptive'],\n",
        "          'regressor__solver': ['adam']}\n",
        "\n",
        "gsc = HalvingGridSearchCV(\n",
        "    estimator,\n",
        "    param_grid,\n",
        "    cv=5, scoring='neg_mean_squared_error', verbose=1, n_jobs=-1)\n",
        "\n",
        "grid_result = gsc.fit(training_features, training_labels)\n",
        "\n",
        "\n",
        "best_params = grid_result.best_params_\n",
        "\n",
        "print(best_params)\n",
        "\n",
        "print(f'Best score: {grid_result.best_score_}')"
      ],
      "metadata": {
        "colab": {
          "base_uri": "https://localhost:8080/"
        },
        "id": "sUJrrwQyVtUl",
        "outputId": "91182d7b-2e59-4708-cef2-250595c7fe6e"
      },
      "execution_count": 36,
      "outputs": [
        {
          "output_type": "stream",
          "name": "stdout",
          "text": [
            "n_iterations: 4\n",
            "n_required_iterations: 4\n",
            "n_possible_iterations: 4\n",
            "min_resources_: 98\n",
            "max_resources_: 2664\n",
            "aggressive_elimination: False\n",
            "factor: 3\n",
            "----------\n",
            "iter: 0\n",
            "n_candidates: 36\n",
            "n_resources: 98\n",
            "Fitting 5 folds for each of 36 candidates, totalling 180 fits\n",
            "----------\n",
            "iter: 1\n",
            "n_candidates: 12\n",
            "n_resources: 294\n",
            "Fitting 5 folds for each of 12 candidates, totalling 60 fits\n",
            "----------\n",
            "iter: 2\n",
            "n_candidates: 4\n",
            "n_resources: 882\n",
            "Fitting 5 folds for each of 4 candidates, totalling 20 fits\n",
            "----------\n",
            "iter: 3\n",
            "n_candidates: 2\n",
            "n_resources: 2646\n",
            "Fitting 5 folds for each of 2 candidates, totalling 10 fits\n",
            "{'regressor__activation': 'relu', 'regressor__alpha': 0.05, 'regressor__hidden_layer_sizes': (50, 50, 50), 'regressor__learning_rate': 'adaptive', 'regressor__solver': 'adam'}\n",
            "Best score: -0.00396940732162866\n"
          ]
        }
      ]
    },
    {
      "cell_type": "code",
      "source": [
        "#EUROPE\n",
        "\n",
        "training = training[training.EU_Sales < 2]\n",
        "training_features, training_labels = training[features], training['EU_Sales']\n",
        "test_features, test_labels = test[features], test['EU_Sales']\n",
        "\n",
        "pipeline = Pipeline([('regressor', MLPRegressor())])\n",
        "\n",
        "#MLP REGRESSION WITH HALVING GRID SEARCH\n",
        "\n",
        "\n",
        "estimator=pipeline\n",
        "\n",
        "\n",
        "param_grid = {'regressor__hidden_layer_sizes': [(50,50,50), (50,100,50), (100,1)],\n",
        "          'regressor__activation': ['relu','tanh','logistic'],\n",
        "          'regressor__alpha': [0.0001, 0.05],\n",
        "          'regressor__learning_rate': ['constant','adaptive'],\n",
        "          'regressor__solver': ['adam']}\n",
        "\n",
        "gsc = HalvingGridSearchCV(\n",
        "    estimator,\n",
        "    param_grid,\n",
        "    cv=5, scoring='neg_mean_squared_error', verbose=1, n_jobs=-1)\n",
        "\n",
        "grid_result = gsc.fit(training_features, training_labels)\n",
        "\n",
        "\n",
        "best_params = grid_result.best_params_\n",
        "\n",
        "print(best_params)\n",
        "\n",
        "print(f'Best score: {grid_result.best_score_}')"
      ],
      "metadata": {
        "colab": {
          "base_uri": "https://localhost:8080/"
        },
        "id": "8bPgGQQWVxHX",
        "outputId": "59679002-497f-42ce-d527-2a548cff50e2"
      },
      "execution_count": 37,
      "outputs": [
        {
          "output_type": "stream",
          "name": "stdout",
          "text": [
            "n_iterations: 4\n",
            "n_required_iterations: 4\n",
            "n_possible_iterations: 4\n",
            "min_resources_: 92\n",
            "max_resources_: 2490\n",
            "aggressive_elimination: False\n",
            "factor: 3\n",
            "----------\n",
            "iter: 0\n",
            "n_candidates: 36\n",
            "n_resources: 92\n",
            "Fitting 5 folds for each of 36 candidates, totalling 180 fits\n",
            "----------\n",
            "iter: 1\n",
            "n_candidates: 12\n",
            "n_resources: 276\n",
            "Fitting 5 folds for each of 12 candidates, totalling 60 fits\n",
            "----------\n",
            "iter: 2\n",
            "n_candidates: 4\n",
            "n_resources: 828\n",
            "Fitting 5 folds for each of 4 candidates, totalling 20 fits\n",
            "----------\n",
            "iter: 3\n",
            "n_candidates: 2\n",
            "n_resources: 2484\n",
            "Fitting 5 folds for each of 2 candidates, totalling 10 fits\n",
            "{'regressor__activation': 'relu', 'regressor__alpha': 0.05, 'regressor__hidden_layer_sizes': (50, 100, 50), 'regressor__learning_rate': 'constant', 'regressor__solver': 'adam'}\n",
            "Best score: -0.0032329435442428065\n"
          ]
        }
      ]
    },
    {
      "cell_type": "code",
      "source": [
        "#OTHER\n",
        "\n",
        "training = training[training.Other_Sales < 2]\n",
        "training_features, training_labels = training[features], training['Other_Sales']\n",
        "test_features, test_labels = test[features], test['Other_Sales']\n",
        "\n",
        "pipeline = Pipeline([('regressor', MLPRegressor())])\n",
        "\n",
        "#MLP REGRESSION WITH HALVING GRID SEARCH\n",
        "\n",
        "\n",
        "estimator=pipeline\n",
        "\n",
        "\n",
        "param_grid = {'regressor__hidden_layer_sizes': [(50,50,50), (50,100,50), (100,1)],\n",
        "          'regressor__activation': ['relu','tanh','logistic'],\n",
        "          'regressor__alpha': [0.0001, 0.05],\n",
        "          'regressor__learning_rate': ['constant','adaptive'],\n",
        "          'regressor__solver': ['adam']}\n",
        "\n",
        "gsc = HalvingGridSearchCV(\n",
        "    estimator,\n",
        "    param_grid,\n",
        "    cv=5, scoring='neg_mean_squared_error', verbose=1, n_jobs=-1)\n",
        "\n",
        "grid_result = gsc.fit(training_features, training_labels)\n",
        "\n",
        "\n",
        "best_params = grid_result.best_params_\n",
        "\n",
        "print(best_params)\n",
        "\n",
        "print(f'Best score: {grid_result.best_score_}')"
      ],
      "metadata": {
        "colab": {
          "base_uri": "https://localhost:8080/"
        },
        "id": "foZz7bYSVyUN",
        "outputId": "b0e7ee94-b98d-427f-e54f-a52e194f07e6"
      },
      "execution_count": 38,
      "outputs": [
        {
          "output_type": "stream",
          "name": "stdout",
          "text": [
            "n_iterations: 4\n",
            "n_required_iterations: 4\n",
            "n_possible_iterations: 4\n",
            "min_resources_: 91\n",
            "max_resources_: 2461\n",
            "aggressive_elimination: False\n",
            "factor: 3\n",
            "----------\n",
            "iter: 0\n",
            "n_candidates: 36\n",
            "n_resources: 91\n",
            "Fitting 5 folds for each of 36 candidates, totalling 180 fits\n",
            "----------\n",
            "iter: 1\n",
            "n_candidates: 12\n",
            "n_resources: 273\n",
            "Fitting 5 folds for each of 12 candidates, totalling 60 fits\n",
            "----------\n",
            "iter: 2\n",
            "n_candidates: 4\n",
            "n_resources: 819\n",
            "Fitting 5 folds for each of 4 candidates, totalling 20 fits\n",
            "----------\n",
            "iter: 3\n",
            "n_candidates: 2\n",
            "n_resources: 2457\n",
            "Fitting 5 folds for each of 2 candidates, totalling 10 fits\n",
            "{'regressor__activation': 'tanh', 'regressor__alpha': 0.05, 'regressor__hidden_layer_sizes': (50, 100, 50), 'regressor__learning_rate': 'constant', 'regressor__solver': 'adam'}\n",
            "Best score: -0.002197480729447186\n"
          ]
        }
      ]
    },
    {
      "cell_type": "code",
      "source": [
        "df_all = pd.read_json('/content/video_games_newer_all_data_with_rawg_final_for_train_v2.json')"
      ],
      "metadata": {
        "id": "q70AdcqbTTCP"
      },
      "execution_count": 117,
      "outputs": []
    },
    {
      "cell_type": "code",
      "source": [
        "df_all = df_all[df_all.NA_Sales <= 6]\n",
        "df_all = df_all[df_all.EU_Sales <= 2]\n",
        "df_all = df_all[df_all.JP_Sales <= 0.7]\n",
        "df_all = df_all[df_all.Other_Sales <= 2]\n",
        "df_all = df_all[df_all.Global_Sales <= 6]\n",
        "df_all = df_all.drop(columns = ['Year_of_Release','Global_Sales'])"
      ],
      "metadata": {
        "id": "gLUyqgm3TaMj"
      },
      "execution_count": 118,
      "outputs": []
    },
    {
      "cell_type": "code",
      "source": [
        "len(df_all)"
      ],
      "metadata": {
        "colab": {
          "base_uri": "https://localhost:8080/"
        },
        "id": "KmHDG86NcMPc",
        "outputId": "5512941d-7b04-4937-ab7e-2972bb0caf62"
      },
      "execution_count": 87,
      "outputs": [
        {
          "output_type": "execute_result",
          "data": {
            "text/plain": [
              "3553"
            ]
          },
          "metadata": {},
          "execution_count": 87
        }
      ]
    },
    {
      "cell_type": "code",
      "source": [
        "#PREPARE DATA FOR CLASSIFICATION\n",
        "import numpy as np\n",
        "\n",
        "tmp = df_all.copy()\n",
        "tmp['User_Score'] = np.where(tmp['User_Score'] < 7.5, 0, tmp['User_Score'])\n",
        "tmp['User_Score'] = np.where(tmp['User_Score'] >= 7.5, 1, tmp['User_Score'])\n",
        "tmp['User_Score'] = tmp['User_Score'].astype('category').cat.codes\n",
        "# tmp['User_Score'] = np.where(tmp['User_Score'] < 6.0, 0, tmp['User_Score'])\n",
        "# tmp['User_Score'] = np.where((6.0 <= tmp['User_Score']) & ( tmp['User_Score'] < 7.0), 1 ,tmp['User_Score'])\n",
        "# tmp['User_Score'] = np.where((7.0 <= tmp['User_Score']) & ( tmp['User_Score'] < 7.5), 2 ,tmp['User_Score'])\n",
        "# tmp['User_Score'] = np.where((7.5 <= tmp['User_Score']) & ( tmp['User_Score'] < 8.0), 3 ,tmp['User_Score'])\n",
        "# tmp['User_Score'] = np.where((8.0 <= tmp['User_Score']) & ( tmp['User_Score'] < 8.5), 4 ,tmp['User_Score'])\n",
        "# tmp['User_Score'] = np.where(8.5 <= tmp['User_Score'] , 5 ,tmp['User_Score'])\n",
        "# tmp['User_Score'] = tmp['User_Score'].astype('category').cat.codes\n"
      ],
      "metadata": {
        "id": "AezYzb7D2-Bs"
      },
      "execution_count": 119,
      "outputs": []
    },
    {
      "cell_type": "code",
      "source": [
        "training, test = train_test_split(tmp, test_size = 0.25, random_state = 32)\n",
        "features = training.drop(['User_Score'], axis = 1).columns"
      ],
      "metadata": {
        "id": "b9KjDVvQYVS8"
      },
      "execution_count": 120,
      "outputs": []
    },
    {
      "cell_type": "code",
      "source": [
        "scaler = StandardScaler()"
      ],
      "metadata": {
        "id": "jmMTebKTW-yP"
      },
      "execution_count": 121,
      "outputs": []
    },
    {
      "cell_type": "code",
      "source": [
        "training[['added', 'screenshots_count', \n",
        "     'achievements_count',\t'reddit_count',\t'twitch_count',\t'youtube_count',\n",
        "     'ratings_count',\t'suggestions_count',\t'additions_count',\n",
        "     'game_series_count',\t'reviews_count','NA_Sales','EU_Sales','JP_Sales','Other_Sales']] = scaler.fit_transform(training[['added', 'screenshots_count', \n",
        "     'achievements_count',\t'reddit_count',\t'twitch_count',\t'youtube_count',\n",
        "     'ratings_count',\t'suggestions_count',\t'additions_count',\n",
        "     'game_series_count',\t'reviews_count','NA_Sales','EU_Sales','JP_Sales','Other_Sales']])"
      ],
      "metadata": {
        "id": "pQzDf93jW-Tf"
      },
      "execution_count": 122,
      "outputs": []
    },
    {
      "cell_type": "code",
      "source": [
        "test[['added', 'screenshots_count', \n",
        "     'achievements_count',\t'reddit_count',\t'twitch_count',\t'youtube_count',\n",
        "     'ratings_count',\t'suggestions_count',\t'additions_count',\n",
        "     'game_series_count',\t'reviews_count','NA_Sales','EU_Sales','JP_Sales','Other_Sales']] = scaler.transform(test[['added', 'screenshots_count', \n",
        "     'achievements_count',\t'reddit_count',\t'twitch_count',\t'youtube_count',\n",
        "     'ratings_count',\t'suggestions_count',\t'additions_count',\n",
        "     'game_series_count',\t'reviews_count','NA_Sales','EU_Sales','JP_Sales','Other_Sales']])"
      ],
      "metadata": {
        "id": "suZ719JVXBhV"
      },
      "execution_count": 123,
      "outputs": []
    },
    {
      "cell_type": "code",
      "source": [
        "\n",
        "training_features, training_labels = training[features], training['User_Score']\n",
        "test_features, test_labels = test[features], test['User_Score']\n",
        "\n",
        "\n",
        "pipeline = Pipeline([('classifier', MLPClassifier(max_iter=100))])"
      ],
      "metadata": {
        "id": "aUe-ukVpXF0R"
      },
      "execution_count": 124,
      "outputs": []
    },
    {
      "cell_type": "code",
      "source": [
        "#MLP CLASSIFICATION WITH HALVING GRID SEARCH\n",
        "\n",
        "mlp_gs = pipeline\n",
        "parameter_space = {\n",
        "    'classifier__hidden_layer_sizes': [(20,50,20),(10,30,10),(20,),(100, 50),(100,50,20)],\n",
        "    'classifier__activation': [ 'tanh', 'relu'],\n",
        "    'classifier__solver': ['adam', 'sgd'],\n",
        "    'classifier__alpha': [0.0001, 0.001, 0.05, 0.1],\n",
        "    'classifier__learning_rate': ['adaptive', 'constant'],\n",
        "    'classifier__batch_size' : [16,32,64,128]\n",
        "}\n",
        "\n",
        "\n",
        "clf = HalvingGridSearchCV(mlp_gs, parameter_space, verbose=1, n_jobs=-1, cv=5, scoring='f1_macro')\n",
        "\n",
        "grid_result = clf.fit(training_features, training_labels)\n",
        "\n",
        "\n",
        "best_params = grid_result.best_params_\n",
        "\n",
        "print(best_params)\n",
        "\n",
        "print(f'Best score: {grid_result.best_score_}')"
      ],
      "metadata": {
        "id": "RwlQcshaGcLB",
        "colab": {
          "base_uri": "https://localhost:8080/"
        },
        "outputId": "57c72947-93bc-49d7-a076-e10869db57b1"
      },
      "execution_count": 125,
      "outputs": [
        {
          "output_type": "stream",
          "name": "stdout",
          "text": [
            "n_iterations: 5\n",
            "n_required_iterations: 6\n",
            "n_possible_iterations: 5\n",
            "min_resources_: 20\n",
            "max_resources_: 2664\n",
            "aggressive_elimination: False\n",
            "factor: 3\n",
            "----------\n",
            "iter: 0\n",
            "n_candidates: 640\n",
            "n_resources: 20\n",
            "Fitting 5 folds for each of 640 candidates, totalling 3200 fits\n",
            "----------\n",
            "iter: 1\n",
            "n_candidates: 214\n",
            "n_resources: 60\n",
            "Fitting 5 folds for each of 214 candidates, totalling 1070 fits\n",
            "----------\n",
            "iter: 2\n",
            "n_candidates: 72\n",
            "n_resources: 180\n",
            "Fitting 5 folds for each of 72 candidates, totalling 360 fits\n",
            "----------\n",
            "iter: 3\n",
            "n_candidates: 24\n",
            "n_resources: 540\n",
            "Fitting 5 folds for each of 24 candidates, totalling 120 fits\n",
            "----------\n",
            "iter: 4\n",
            "n_candidates: 8\n",
            "n_resources: 1620\n",
            "Fitting 5 folds for each of 8 candidates, totalling 40 fits\n",
            "{'classifier__activation': 'tanh', 'classifier__alpha': 0.1, 'classifier__batch_size': 64, 'classifier__hidden_layer_sizes': (100, 50), 'classifier__learning_rate': 'constant', 'classifier__solver': 'adam'}\n",
            "Best score: 0.6307734499655188\n"
          ]
        },
        {
          "output_type": "stream",
          "name": "stderr",
          "text": [
            "/usr/local/lib/python3.9/dist-packages/sklearn/neural_network/_multilayer_perceptron.py:686: ConvergenceWarning: Stochastic Optimizer: Maximum iterations (100) reached and the optimization hasn't converged yet.\n",
            "  warnings.warn(\n"
          ]
        }
      ]
    },
    {
      "cell_type": "code",
      "source": [
        "import pandas as pd\n",
        "df_steam = pd.read_json('/content/steamspy_all.json')\n",
        "\n",
        "df_steam.head(2)"
      ],
      "metadata": {
        "colab": {
          "base_uri": "https://localhost:8080/",
          "height": 262
        },
        "id": "7p7R_g_6NfKH",
        "outputId": "73d280a6-a089-4094-93d4-fa87b4a74707"
      },
      "execution_count": 2,
      "outputs": [
        {
          "output_type": "execute_result",
          "data": {
            "text/plain": [
              "   appid                              name                         developer  \\\n",
              "0    570                            Dota 2                             Valve   \n",
              "1    730  Counter-Strike: Global Offensive  Valve, Hidden Path Entertainment   \n",
              "\n",
              "  publisher score_rank  positive  negative  userscore  \\\n",
              "0     Valve              1596223    333113          0   \n",
              "1     Valve              6129357    805515          0   \n",
              "\n",
              "                       owners  average_forever  average_2weeks  \\\n",
              "0  200,000,000 .. 500,000,000            38179            1530   \n",
              "1   50,000,000 .. 100,000,000            29163             864   \n",
              "\n",
              "   median_forever  median_2weeks  price  initialprice  discount      ccu  \n",
              "0             904            754    0.0           0.0       0.0   470308  \n",
              "1            6238            346    0.0           0.0       0.0  1035784  "
            ],
            "text/html": [
              "\n",
              "  <div id=\"df-297701ff-24dc-4822-85c6-6f44cceb411b\">\n",
              "    <div class=\"colab-df-container\">\n",
              "      <div>\n",
              "<style scoped>\n",
              "    .dataframe tbody tr th:only-of-type {\n",
              "        vertical-align: middle;\n",
              "    }\n",
              "\n",
              "    .dataframe tbody tr th {\n",
              "        vertical-align: top;\n",
              "    }\n",
              "\n",
              "    .dataframe thead th {\n",
              "        text-align: right;\n",
              "    }\n",
              "</style>\n",
              "<table border=\"1\" class=\"dataframe\">\n",
              "  <thead>\n",
              "    <tr style=\"text-align: right;\">\n",
              "      <th></th>\n",
              "      <th>appid</th>\n",
              "      <th>name</th>\n",
              "      <th>developer</th>\n",
              "      <th>publisher</th>\n",
              "      <th>score_rank</th>\n",
              "      <th>positive</th>\n",
              "      <th>negative</th>\n",
              "      <th>userscore</th>\n",
              "      <th>owners</th>\n",
              "      <th>average_forever</th>\n",
              "      <th>average_2weeks</th>\n",
              "      <th>median_forever</th>\n",
              "      <th>median_2weeks</th>\n",
              "      <th>price</th>\n",
              "      <th>initialprice</th>\n",
              "      <th>discount</th>\n",
              "      <th>ccu</th>\n",
              "    </tr>\n",
              "  </thead>\n",
              "  <tbody>\n",
              "    <tr>\n",
              "      <th>0</th>\n",
              "      <td>570</td>\n",
              "      <td>Dota 2</td>\n",
              "      <td>Valve</td>\n",
              "      <td>Valve</td>\n",
              "      <td></td>\n",
              "      <td>1596223</td>\n",
              "      <td>333113</td>\n",
              "      <td>0</td>\n",
              "      <td>200,000,000 .. 500,000,000</td>\n",
              "      <td>38179</td>\n",
              "      <td>1530</td>\n",
              "      <td>904</td>\n",
              "      <td>754</td>\n",
              "      <td>0.0</td>\n",
              "      <td>0.0</td>\n",
              "      <td>0.0</td>\n",
              "      <td>470308</td>\n",
              "    </tr>\n",
              "    <tr>\n",
              "      <th>1</th>\n",
              "      <td>730</td>\n",
              "      <td>Counter-Strike: Global Offensive</td>\n",
              "      <td>Valve, Hidden Path Entertainment</td>\n",
              "      <td>Valve</td>\n",
              "      <td></td>\n",
              "      <td>6129357</td>\n",
              "      <td>805515</td>\n",
              "      <td>0</td>\n",
              "      <td>50,000,000 .. 100,000,000</td>\n",
              "      <td>29163</td>\n",
              "      <td>864</td>\n",
              "      <td>6238</td>\n",
              "      <td>346</td>\n",
              "      <td>0.0</td>\n",
              "      <td>0.0</td>\n",
              "      <td>0.0</td>\n",
              "      <td>1035784</td>\n",
              "    </tr>\n",
              "  </tbody>\n",
              "</table>\n",
              "</div>\n",
              "      <button class=\"colab-df-convert\" onclick=\"convertToInteractive('df-297701ff-24dc-4822-85c6-6f44cceb411b')\"\n",
              "              title=\"Convert this dataframe to an interactive table.\"\n",
              "              style=\"display:none;\">\n",
              "        \n",
              "  <svg xmlns=\"http://www.w3.org/2000/svg\" height=\"24px\"viewBox=\"0 0 24 24\"\n",
              "       width=\"24px\">\n",
              "    <path d=\"M0 0h24v24H0V0z\" fill=\"none\"/>\n",
              "    <path d=\"M18.56 5.44l.94 2.06.94-2.06 2.06-.94-2.06-.94-.94-2.06-.94 2.06-2.06.94zm-11 1L8.5 8.5l.94-2.06 2.06-.94-2.06-.94L8.5 2.5l-.94 2.06-2.06.94zm10 10l.94 2.06.94-2.06 2.06-.94-2.06-.94-.94-2.06-.94 2.06-2.06.94z\"/><path d=\"M17.41 7.96l-1.37-1.37c-.4-.4-.92-.59-1.43-.59-.52 0-1.04.2-1.43.59L10.3 9.45l-7.72 7.72c-.78.78-.78 2.05 0 2.83L4 21.41c.39.39.9.59 1.41.59.51 0 1.02-.2 1.41-.59l7.78-7.78 2.81-2.81c.8-.78.8-2.07 0-2.86zM5.41 20L4 18.59l7.72-7.72 1.47 1.35L5.41 20z\"/>\n",
              "  </svg>\n",
              "      </button>\n",
              "      \n",
              "  <style>\n",
              "    .colab-df-container {\n",
              "      display:flex;\n",
              "      flex-wrap:wrap;\n",
              "      gap: 12px;\n",
              "    }\n",
              "\n",
              "    .colab-df-convert {\n",
              "      background-color: #E8F0FE;\n",
              "      border: none;\n",
              "      border-radius: 50%;\n",
              "      cursor: pointer;\n",
              "      display: none;\n",
              "      fill: #1967D2;\n",
              "      height: 32px;\n",
              "      padding: 0 0 0 0;\n",
              "      width: 32px;\n",
              "    }\n",
              "\n",
              "    .colab-df-convert:hover {\n",
              "      background-color: #E2EBFA;\n",
              "      box-shadow: 0px 1px 2px rgba(60, 64, 67, 0.3), 0px 1px 3px 1px rgba(60, 64, 67, 0.15);\n",
              "      fill: #174EA6;\n",
              "    }\n",
              "\n",
              "    [theme=dark] .colab-df-convert {\n",
              "      background-color: #3B4455;\n",
              "      fill: #D2E3FC;\n",
              "    }\n",
              "\n",
              "    [theme=dark] .colab-df-convert:hover {\n",
              "      background-color: #434B5C;\n",
              "      box-shadow: 0px 1px 3px 1px rgba(0, 0, 0, 0.15);\n",
              "      filter: drop-shadow(0px 1px 2px rgba(0, 0, 0, 0.3));\n",
              "      fill: #FFFFFF;\n",
              "    }\n",
              "  </style>\n",
              "\n",
              "      <script>\n",
              "        const buttonEl =\n",
              "          document.querySelector('#df-297701ff-24dc-4822-85c6-6f44cceb411b button.colab-df-convert');\n",
              "        buttonEl.style.display =\n",
              "          google.colab.kernel.accessAllowed ? 'block' : 'none';\n",
              "\n",
              "        async function convertToInteractive(key) {\n",
              "          const element = document.querySelector('#df-297701ff-24dc-4822-85c6-6f44cceb411b');\n",
              "          const dataTable =\n",
              "            await google.colab.kernel.invokeFunction('convertToInteractive',\n",
              "                                                     [key], {});\n",
              "          if (!dataTable) return;\n",
              "\n",
              "          const docLinkHtml = 'Like what you see? Visit the ' +\n",
              "            '<a target=\"_blank\" href=https://colab.research.google.com/notebooks/data_table.ipynb>data table notebook</a>'\n",
              "            + ' to learn more about interactive tables.';\n",
              "          element.innerHTML = '';\n",
              "          dataTable['output_type'] = 'display_data';\n",
              "          await google.colab.output.renderOutput(dataTable, element);\n",
              "          const docLink = document.createElement('div');\n",
              "          docLink.innerHTML = docLinkHtml;\n",
              "          element.appendChild(docLink);\n",
              "        }\n",
              "      </script>\n",
              "    </div>\n",
              "  </div>\n",
              "  "
            ]
          },
          "metadata": {},
          "execution_count": 2
        }
      ]
    },
    {
      "cell_type": "code",
      "source": [
        "df_steam.isna().sum()"
      ],
      "metadata": {
        "colab": {
          "base_uri": "https://localhost:8080/"
        },
        "id": "bwKYYmd_O9C3",
        "outputId": "88e5f1c1-f0a9-44c7-f3f3-8e67141657a6"
      },
      "execution_count": 3,
      "outputs": [
        {
          "output_type": "execute_result",
          "data": {
            "text/plain": [
              "appid               0\n",
              "name                0\n",
              "developer           0\n",
              "publisher           0\n",
              "score_rank          0\n",
              "positive            0\n",
              "negative            0\n",
              "userscore           0\n",
              "owners              0\n",
              "average_forever     0\n",
              "average_2weeks      0\n",
              "median_forever      0\n",
              "median_2weeks       0\n",
              "price              29\n",
              "initialprice       22\n",
              "discount           22\n",
              "ccu                 0\n",
              "dtype: int64"
            ]
          },
          "metadata": {},
          "execution_count": 3
        }
      ]
    },
    {
      "cell_type": "code",
      "source": [
        "df_steam = df_steam.dropna()"
      ],
      "metadata": {
        "id": "uYp9SB5ZPCWX"
      },
      "execution_count": 4,
      "outputs": []
    },
    {
      "cell_type": "code",
      "source": [
        "df_steam.isna().sum()"
      ],
      "metadata": {
        "colab": {
          "base_uri": "https://localhost:8080/"
        },
        "id": "wKwKWB-XPGUM",
        "outputId": "e8895769-56ef-4cb7-df28-685f8cb2417a"
      },
      "execution_count": 5,
      "outputs": [
        {
          "output_type": "execute_result",
          "data": {
            "text/plain": [
              "appid              0\n",
              "name               0\n",
              "developer          0\n",
              "publisher          0\n",
              "score_rank         0\n",
              "positive           0\n",
              "negative           0\n",
              "userscore          0\n",
              "owners             0\n",
              "average_forever    0\n",
              "average_2weeks     0\n",
              "median_forever     0\n",
              "median_2weeks      0\n",
              "price              0\n",
              "initialprice       0\n",
              "discount           0\n",
              "ccu                0\n",
              "dtype: int64"
            ]
          },
          "metadata": {},
          "execution_count": 5
        }
      ]
    },
    {
      "cell_type": "code",
      "source": [
        "len(df_steam)"
      ],
      "metadata": {
        "colab": {
          "base_uri": "https://localhost:8080/"
        },
        "id": "o6sP5V2-PHNp",
        "outputId": "57f5b270-cda6-4ec2-c9e6-7ebbb08e80dc"
      },
      "execution_count": 6,
      "outputs": [
        {
          "output_type": "execute_result",
          "data": {
            "text/plain": [
              "60782"
            ]
          },
          "metadata": {},
          "execution_count": 6
        }
      ]
    },
    {
      "cell_type": "code",
      "source": [
        "df_steam['userscore'].unique()"
      ],
      "metadata": {
        "colab": {
          "base_uri": "https://localhost:8080/"
        },
        "id": "-e2Q12OkPRTd",
        "outputId": "bf6f66a8-edcc-4ee3-a413-080cef8a3f79"
      },
      "execution_count": 7,
      "outputs": [
        {
          "output_type": "execute_result",
          "data": {
            "text/plain": [
              "array([  0,  95,  69,  55,  46,  73,  77,  97,  81,  74,  98,  67,  84,\n",
              "        59,  87,  57,  65,  80,  51,  63,  68,  78,  82,  94, 100,  96,\n",
              "        60,  61,  53,  76,  92,  71,  88])"
            ]
          },
          "metadata": {},
          "execution_count": 7
        }
      ]
    },
    {
      "cell_type": "code",
      "source": [
        "df_steam['owners'][:2]"
      ],
      "metadata": {
        "colab": {
          "base_uri": "https://localhost:8080/"
        },
        "id": "ZpECxQuxPbkN",
        "outputId": "84455fa1-9d46-423f-c0d3-c34a7596c518"
      },
      "execution_count": 8,
      "outputs": [
        {
          "output_type": "execute_result",
          "data": {
            "text/plain": [
              "0    200,000,000 .. 500,000,000\n",
              "1     50,000,000 .. 100,000,000\n",
              "Name: owners, dtype: object"
            ]
          },
          "metadata": {},
          "execution_count": 8
        }
      ]
    },
    {
      "cell_type": "code",
      "source": [
        "df_rawg = pd.read_json('/content/rawg_games_details_data_1.json')\n",
        "\n",
        "df_rawg.head(2)"
      ],
      "metadata": {
        "colab": {
          "base_uri": "https://localhost:8080/",
          "height": 378
        },
        "id": "5SpZ3nb3QyVi",
        "outputId": "50f3d975-35c9-4285-f131-0e453e04e190"
      },
      "execution_count": 10,
      "outputs": [
        {
          "output_type": "execute_result",
          "data": {
            "text/plain": [
              "      id              slug               name      name_original  \\\n",
              "0  25057        wii-sports         Wii Sports         Wii Sports   \n",
              "1  25080  super-mario-bros  Super Mario Bros.  Super Mario Bros.   \n",
              "\n",
              "                                         description  metacritic  \\\n",
              "0  <p>This is what video games should be: fun for...        76.0   \n",
              "1  <p>Mario and Luigi star in their first ever Mu...         NaN   \n",
              "\n",
              "                                metacritic_platforms    released    tba  \\\n",
              "0  [{'metascore': 76, 'url': 'https://www.metacri...  2006-11-19  False   \n",
              "1                                                 []  1985-09-13  False   \n",
              "\n",
              "               updated  ...  \\\n",
              "0  2023-02-19T20:34:26  ...   \n",
              "1  2023-02-24T18:30:20  ...   \n",
              "\n",
              "                                           platforms  \\\n",
              "0  [{'platform': {'id': 11, 'name': 'Wii', 'slug'...   \n",
              "1  [{'platform': {'id': 24, 'name': 'Game Boy Adv...   \n",
              "\n",
              "                                              stores  \\\n",
              "0  [{'id': 29436, 'url': '', 'store': {'id': 6, '...   \n",
              "1  [{'id': 29465, 'url': '', 'store': {'id': 6, '...   \n",
              "\n",
              "                                          developers  \\\n",
              "0                                                 []   \n",
              "1  [{'id': 16257, 'name': 'Nintendo', 'slug': 'ni...   \n",
              "\n",
              "                                              genres  \\\n",
              "0  [{'id': 15, 'name': 'Sports', 'slug': 'sports'...   \n",
              "1  [{'id': 4, 'name': 'Action', 'slug': 'action',...   \n",
              "\n",
              "                                                tags  \\\n",
              "0  [{'id': 37796, 'name': 'exclusive', 'slug': 'e...   \n",
              "1  [{'id': 31, 'name': 'Singleplayer', 'slug': 's...   \n",
              "\n",
              "                                          publishers esrb_rating  clip  \\\n",
              "0  [{'id': 10681, 'name': 'Nintendo', 'slug': 'ni...        None   NaN   \n",
              "1  [{'id': 10681, 'name': 'Nintendo', 'slug': 'ni...        None   NaN   \n",
              "\n",
              "                                     description_raw  community_rating  \n",
              "0  This is what video games should be: fun for ev...               NaN  \n",
              "1  Mario and Luigi star in their first ever Mushr...               NaN  \n",
              "\n",
              "[2 rows x 55 columns]"
            ],
            "text/html": [
              "\n",
              "  <div id=\"df-1ff4e532-6ba5-4da1-9202-47a230184b2d\">\n",
              "    <div class=\"colab-df-container\">\n",
              "      <div>\n",
              "<style scoped>\n",
              "    .dataframe tbody tr th:only-of-type {\n",
              "        vertical-align: middle;\n",
              "    }\n",
              "\n",
              "    .dataframe tbody tr th {\n",
              "        vertical-align: top;\n",
              "    }\n",
              "\n",
              "    .dataframe thead th {\n",
              "        text-align: right;\n",
              "    }\n",
              "</style>\n",
              "<table border=\"1\" class=\"dataframe\">\n",
              "  <thead>\n",
              "    <tr style=\"text-align: right;\">\n",
              "      <th></th>\n",
              "      <th>id</th>\n",
              "      <th>slug</th>\n",
              "      <th>name</th>\n",
              "      <th>name_original</th>\n",
              "      <th>description</th>\n",
              "      <th>metacritic</th>\n",
              "      <th>metacritic_platforms</th>\n",
              "      <th>released</th>\n",
              "      <th>tba</th>\n",
              "      <th>updated</th>\n",
              "      <th>...</th>\n",
              "      <th>platforms</th>\n",
              "      <th>stores</th>\n",
              "      <th>developers</th>\n",
              "      <th>genres</th>\n",
              "      <th>tags</th>\n",
              "      <th>publishers</th>\n",
              "      <th>esrb_rating</th>\n",
              "      <th>clip</th>\n",
              "      <th>description_raw</th>\n",
              "      <th>community_rating</th>\n",
              "    </tr>\n",
              "  </thead>\n",
              "  <tbody>\n",
              "    <tr>\n",
              "      <th>0</th>\n",
              "      <td>25057</td>\n",
              "      <td>wii-sports</td>\n",
              "      <td>Wii Sports</td>\n",
              "      <td>Wii Sports</td>\n",
              "      <td>&lt;p&gt;This is what video games should be: fun for...</td>\n",
              "      <td>76.0</td>\n",
              "      <td>[{'metascore': 76, 'url': 'https://www.metacri...</td>\n",
              "      <td>2006-11-19</td>\n",
              "      <td>False</td>\n",
              "      <td>2023-02-19T20:34:26</td>\n",
              "      <td>...</td>\n",
              "      <td>[{'platform': {'id': 11, 'name': 'Wii', 'slug'...</td>\n",
              "      <td>[{'id': 29436, 'url': '', 'store': {'id': 6, '...</td>\n",
              "      <td>[]</td>\n",
              "      <td>[{'id': 15, 'name': 'Sports', 'slug': 'sports'...</td>\n",
              "      <td>[{'id': 37796, 'name': 'exclusive', 'slug': 'e...</td>\n",
              "      <td>[{'id': 10681, 'name': 'Nintendo', 'slug': 'ni...</td>\n",
              "      <td>None</td>\n",
              "      <td>NaN</td>\n",
              "      <td>This is what video games should be: fun for ev...</td>\n",
              "      <td>NaN</td>\n",
              "    </tr>\n",
              "    <tr>\n",
              "      <th>1</th>\n",
              "      <td>25080</td>\n",
              "      <td>super-mario-bros</td>\n",
              "      <td>Super Mario Bros.</td>\n",
              "      <td>Super Mario Bros.</td>\n",
              "      <td>&lt;p&gt;Mario and Luigi star in their first ever Mu...</td>\n",
              "      <td>NaN</td>\n",
              "      <td>[]</td>\n",
              "      <td>1985-09-13</td>\n",
              "      <td>False</td>\n",
              "      <td>2023-02-24T18:30:20</td>\n",
              "      <td>...</td>\n",
              "      <td>[{'platform': {'id': 24, 'name': 'Game Boy Adv...</td>\n",
              "      <td>[{'id': 29465, 'url': '', 'store': {'id': 6, '...</td>\n",
              "      <td>[{'id': 16257, 'name': 'Nintendo', 'slug': 'ni...</td>\n",
              "      <td>[{'id': 4, 'name': 'Action', 'slug': 'action',...</td>\n",
              "      <td>[{'id': 31, 'name': 'Singleplayer', 'slug': 's...</td>\n",
              "      <td>[{'id': 10681, 'name': 'Nintendo', 'slug': 'ni...</td>\n",
              "      <td>None</td>\n",
              "      <td>NaN</td>\n",
              "      <td>Mario and Luigi star in their first ever Mushr...</td>\n",
              "      <td>NaN</td>\n",
              "    </tr>\n",
              "  </tbody>\n",
              "</table>\n",
              "<p>2 rows × 55 columns</p>\n",
              "</div>\n",
              "      <button class=\"colab-df-convert\" onclick=\"convertToInteractive('df-1ff4e532-6ba5-4da1-9202-47a230184b2d')\"\n",
              "              title=\"Convert this dataframe to an interactive table.\"\n",
              "              style=\"display:none;\">\n",
              "        \n",
              "  <svg xmlns=\"http://www.w3.org/2000/svg\" height=\"24px\"viewBox=\"0 0 24 24\"\n",
              "       width=\"24px\">\n",
              "    <path d=\"M0 0h24v24H0V0z\" fill=\"none\"/>\n",
              "    <path d=\"M18.56 5.44l.94 2.06.94-2.06 2.06-.94-2.06-.94-.94-2.06-.94 2.06-2.06.94zm-11 1L8.5 8.5l.94-2.06 2.06-.94-2.06-.94L8.5 2.5l-.94 2.06-2.06.94zm10 10l.94 2.06.94-2.06 2.06-.94-2.06-.94-.94-2.06-.94 2.06-2.06.94z\"/><path d=\"M17.41 7.96l-1.37-1.37c-.4-.4-.92-.59-1.43-.59-.52 0-1.04.2-1.43.59L10.3 9.45l-7.72 7.72c-.78.78-.78 2.05 0 2.83L4 21.41c.39.39.9.59 1.41.59.51 0 1.02-.2 1.41-.59l7.78-7.78 2.81-2.81c.8-.78.8-2.07 0-2.86zM5.41 20L4 18.59l7.72-7.72 1.47 1.35L5.41 20z\"/>\n",
              "  </svg>\n",
              "      </button>\n",
              "      \n",
              "  <style>\n",
              "    .colab-df-container {\n",
              "      display:flex;\n",
              "      flex-wrap:wrap;\n",
              "      gap: 12px;\n",
              "    }\n",
              "\n",
              "    .colab-df-convert {\n",
              "      background-color: #E8F0FE;\n",
              "      border: none;\n",
              "      border-radius: 50%;\n",
              "      cursor: pointer;\n",
              "      display: none;\n",
              "      fill: #1967D2;\n",
              "      height: 32px;\n",
              "      padding: 0 0 0 0;\n",
              "      width: 32px;\n",
              "    }\n",
              "\n",
              "    .colab-df-convert:hover {\n",
              "      background-color: #E2EBFA;\n",
              "      box-shadow: 0px 1px 2px rgba(60, 64, 67, 0.3), 0px 1px 3px 1px rgba(60, 64, 67, 0.15);\n",
              "      fill: #174EA6;\n",
              "    }\n",
              "\n",
              "    [theme=dark] .colab-df-convert {\n",
              "      background-color: #3B4455;\n",
              "      fill: #D2E3FC;\n",
              "    }\n",
              "\n",
              "    [theme=dark] .colab-df-convert:hover {\n",
              "      background-color: #434B5C;\n",
              "      box-shadow: 0px 1px 3px 1px rgba(0, 0, 0, 0.15);\n",
              "      filter: drop-shadow(0px 1px 2px rgba(0, 0, 0, 0.3));\n",
              "      fill: #FFFFFF;\n",
              "    }\n",
              "  </style>\n",
              "\n",
              "      <script>\n",
              "        const buttonEl =\n",
              "          document.querySelector('#df-1ff4e532-6ba5-4da1-9202-47a230184b2d button.colab-df-convert');\n",
              "        buttonEl.style.display =\n",
              "          google.colab.kernel.accessAllowed ? 'block' : 'none';\n",
              "\n",
              "        async function convertToInteractive(key) {\n",
              "          const element = document.querySelector('#df-1ff4e532-6ba5-4da1-9202-47a230184b2d');\n",
              "          const dataTable =\n",
              "            await google.colab.kernel.invokeFunction('convertToInteractive',\n",
              "                                                     [key], {});\n",
              "          if (!dataTable) return;\n",
              "\n",
              "          const docLinkHtml = 'Like what you see? Visit the ' +\n",
              "            '<a target=\"_blank\" href=https://colab.research.google.com/notebooks/data_table.ipynb>data table notebook</a>'\n",
              "            + ' to learn more about interactive tables.';\n",
              "          element.innerHTML = '';\n",
              "          dataTable['output_type'] = 'display_data';\n",
              "          await google.colab.output.renderOutput(dataTable, element);\n",
              "          const docLink = document.createElement('div');\n",
              "          docLink.innerHTML = docLinkHtml;\n",
              "          element.appendChild(docLink);\n",
              "        }\n",
              "      </script>\n",
              "    </div>\n",
              "  </div>\n",
              "  "
            ]
          },
          "metadata": {},
          "execution_count": 10
        }
      ]
    },
    {
      "cell_type": "code",
      "source": [
        "df_rawg['name_original'].nunique()"
      ],
      "metadata": {
        "colab": {
          "base_uri": "https://localhost:8080/"
        },
        "id": "bM3If7ajSSh7",
        "outputId": "f6f1a8eb-e1d1-4368-fab7-7687daf43f1b"
      },
      "execution_count": 15,
      "outputs": [
        {
          "output_type": "execute_result",
          "data": {
            "text/plain": [
              "5870"
            ]
          },
          "metadata": {},
          "execution_count": 15
        }
      ]
    },
    {
      "cell_type": "code",
      "source": [
        "result = pd.merge(df_rawg, df_steam, how=\"inner\", left_on = \"name_original\", right_on = \"name\")"
      ],
      "metadata": {
        "id": "xPGUQ5BbR9Pz"
      },
      "execution_count": 16,
      "outputs": []
    },
    {
      "cell_type": "code",
      "source": [
        "len(result)"
      ],
      "metadata": {
        "colab": {
          "base_uri": "https://localhost:8080/"
        },
        "id": "fruWyU4YSFjK",
        "outputId": "3abaf1e0-87cf-4e70-b060-89ac30193bfe"
      },
      "execution_count": 17,
      "outputs": [
        {
          "output_type": "execute_result",
          "data": {
            "text/plain": [
              "641"
            ]
          },
          "metadata": {},
          "execution_count": 17
        }
      ]
    }
  ]
}